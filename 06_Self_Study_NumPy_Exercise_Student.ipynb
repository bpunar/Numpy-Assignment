{
  "cells": [
    {
      "cell_type": "markdown",
      "metadata": {
        "id": "view-in-github",
        "colab_type": "text"
      },
      "source": [
        "<a href=\"https://colab.research.google.com/github/bpunar/Numpy-Assignment/blob/main/06_Self_Study_NumPy_Exercise_Student.ipynb\" target=\"_parent\"><img src=\"https://colab.research.google.com/assets/colab-badge.svg\" alt=\"Open In Colab\"/></a>"
      ]
    },
    {
      "cell_type": "markdown",
      "metadata": {
        "id": "DfX4Zlaz_Kz3"
      },
      "source": [
        "# NumPy Çalışma"
      ]
    },
    {
      "cell_type": "markdown",
      "metadata": {
        "id": "Fz-aGvN8_K0D"
      },
      "source": [
        "### NumPy Array'i Oluşturmak"
      ]
    },
    {
      "cell_type": "code",
      "execution_count": 63,
      "metadata": {
        "id": "QTJda3xH_K0F"
      },
      "outputs": [],
      "source": [
        "import numpy as np"
      ]
    },
    {
      "cell_type": "code",
      "execution_count": 64,
      "metadata": {
        "colab": {
          "base_uri": "https://localhost:8080/",
          "height": 34
        },
        "id": "DRYVlxV7_K0J",
        "outputId": "ae452883-d1f0-46e6-8864-4417a4ef90d9"
      },
      "outputs": [
        {
          "output_type": "execute_result",
          "data": {
            "application/vnd.google.colaboratory.intrinsic+json": {
              "type": "string"
            },
            "text/plain": [
              "'1.21.5'"
            ]
          },
          "metadata": {},
          "execution_count": 64
        }
      ],
      "source": [
        "np.__version__"
      ]
    },
    {
      "cell_type": "code",
      "execution_count": 65,
      "metadata": {
        "colab": {
          "base_uri": "https://localhost:8080/"
        },
        "id": "caUdnXwT_K0M",
        "outputId": "9aee9591-a7f2-4d8d-b6e4-88fc8d1b8afb"
      },
      "outputs": [
        {
          "output_type": "execute_result",
          "data": {
            "text/plain": [
              "array([1, 2, 3, 4, 5])"
            ]
          },
          "metadata": {},
          "execution_count": 65
        }
      ],
      "source": [
        "# code here\n",
        "np.arange(1,6)"
      ]
    },
    {
      "cell_type": "code",
      "execution_count": null,
      "metadata": {
        "id": "n3itNa56_K0N",
        "outputId": "146cad3f-331b-4e17-d76f-16d45bcafe52"
      },
      "outputs": [
        {
          "data": {
            "text/plain": [
              "array([1, 2, 3, 4, 5])"
            ]
          },
          "execution_count": 127,
          "metadata": {},
          "output_type": "execute_result"
        }
      ],
      "source": [
        ""
      ]
    },
    {
      "cell_type": "code",
      "execution_count": 66,
      "metadata": {
        "colab": {
          "base_uri": "https://localhost:8080/"
        },
        "id": "FbtJoyBI_K0O",
        "outputId": "404d177d-ad0a-48c3-dfea-257f84c556c7"
      },
      "outputs": [
        {
          "output_type": "execute_result",
          "data": {
            "text/plain": [
              "numpy.ndarray"
            ]
          },
          "metadata": {},
          "execution_count": 66
        }
      ],
      "source": [
        "a = np.array([1,2,3,4,5])\n",
        "type(a)"
      ]
    },
    {
      "cell_type": "code",
      "execution_count": 67,
      "metadata": {
        "colab": {
          "base_uri": "https://localhost:8080/"
        },
        "id": "tW5rMm83_K0Q",
        "outputId": "bd703ce9-d0a8-474b-cf2b-85b3e4cb753a"
      },
      "outputs": [
        {
          "output_type": "execute_result",
          "data": {
            "text/plain": [
              "array([ 3,  4,  2, 13])"
            ]
          },
          "metadata": {},
          "execution_count": 67
        }
      ],
      "source": [
        "np.array([3.14, 4, 2, 13], dtype = \"int\")"
      ]
    },
    {
      "cell_type": "code",
      "execution_count": 68,
      "metadata": {
        "colab": {
          "base_uri": "https://localhost:8080/"
        },
        "id": "xjWcgkoi_K0R",
        "outputId": "70effad4-5ba5-4573-9784-b6978c6c0805"
      },
      "outputs": [
        {
          "output_type": "execute_result",
          "data": {
            "text/plain": [
              "array([ 3.14,  4.  ,  2.  , 13.  ])"
            ]
          },
          "metadata": {},
          "execution_count": 68
        }
      ],
      "source": [
        "np.array([3.14, 4, 2, 13], dtype = \"float\")"
      ]
    },
    {
      "cell_type": "code",
      "execution_count": null,
      "metadata": {
        "id": "pK92cpP-_K0T"
      },
      "outputs": [],
      "source": [
        "# sifirdan array olusturma (np.zeros)"
      ]
    },
    {
      "cell_type": "code",
      "execution_count": 69,
      "metadata": {
        "colab": {
          "base_uri": "https://localhost:8080/"
        },
        "id": "fXX_XsWL_K0U",
        "outputId": "1bae9459-6cbc-46d9-b634-e37ebd48a852"
      },
      "outputs": [
        {
          "output_type": "execute_result",
          "data": {
            "text/plain": [
              "array([0, 0, 0, 0, 0, 0, 0, 0, 0, 0])"
            ]
          },
          "metadata": {},
          "execution_count": 69
        }
      ],
      "source": [
        "# code here\n",
        "np.zeros(10, dtype = \"int\")"
      ]
    },
    {
      "cell_type": "code",
      "execution_count": null,
      "metadata": {
        "id": "jDIrBfZ5_K0W",
        "outputId": "be1fbb6e-b3af-4aa1-f08a-ae607a953aa9"
      },
      "outputs": [
        {
          "data": {
            "text/plain": [
              "array([0, 0, 0, 0, 0, 0, 0, 0, 0, 0])"
            ]
          },
          "execution_count": 20,
          "metadata": {},
          "output_type": "execute_result"
        }
      ],
      "source": [
        ""
      ]
    },
    {
      "cell_type": "code",
      "execution_count": 70,
      "metadata": {
        "colab": {
          "base_uri": "https://localhost:8080/"
        },
        "id": "QJ-nBkrx_K0X",
        "outputId": "9e8bbf1c-5245-441e-a69b-f7457985ad66"
      },
      "outputs": [
        {
          "output_type": "execute_result",
          "data": {
            "text/plain": [
              "array([0., 0., 0., 0., 0., 0., 0., 0., 0., 0.])"
            ]
          },
          "metadata": {},
          "execution_count": 70
        }
      ],
      "source": [
        "# code here\n",
        "np.zeros(10)"
      ]
    },
    {
      "cell_type": "code",
      "execution_count": null,
      "metadata": {
        "id": "P62CtydA_K0Y",
        "outputId": "481a9bb5-d48a-4cb4-9d54-cec44eda8147"
      },
      "outputs": [
        {
          "data": {
            "text/plain": [
              "array([0., 0., 0., 0., 0., 0., 0., 0., 0., 0.])"
            ]
          },
          "execution_count": 21,
          "metadata": {},
          "output_type": "execute_result"
        }
      ],
      "source": [
        ""
      ]
    },
    {
      "cell_type": "code",
      "execution_count": null,
      "metadata": {
        "id": "KP8kmnpj_K0Z"
      },
      "outputs": [],
      "source": [
        "# birlerden array olusturma (np.ones)"
      ]
    },
    {
      "cell_type": "code",
      "execution_count": 71,
      "metadata": {
        "colab": {
          "base_uri": "https://localhost:8080/"
        },
        "id": "ik28uHVm_K0Z",
        "outputId": "b013527e-0953-4be6-aa8c-430dfbdc8859"
      },
      "outputs": [
        {
          "output_type": "execute_result",
          "data": {
            "text/plain": [
              "array([[1, 1, 1, 1, 1],\n",
              "       [1, 1, 1, 1, 1],\n",
              "       [1, 1, 1, 1, 1]])"
            ]
          },
          "metadata": {},
          "execution_count": 71
        }
      ],
      "source": [
        "# code here\n",
        "np.ones([3,5], dtype = \"int\")"
      ]
    },
    {
      "cell_type": "code",
      "execution_count": null,
      "metadata": {
        "id": "KiH9pgIh_K0a",
        "outputId": "686517f9-202a-4583-b77c-e1b686e1244c"
      },
      "outputs": [
        {
          "data": {
            "text/plain": [
              "array([[1, 1, 1, 1, 1],\n",
              "       [1, 1, 1, 1, 1],\n",
              "       [1, 1, 1, 1, 1]])"
            ]
          },
          "execution_count": 133,
          "metadata": {},
          "output_type": "execute_result"
        }
      ],
      "source": [
        ""
      ]
    },
    {
      "cell_type": "code",
      "execution_count": 72,
      "metadata": {
        "colab": {
          "base_uri": "https://localhost:8080/"
        },
        "id": "BeyUEL6b_K0b",
        "outputId": "09d71c4d-79a3-4814-eb78-db7a1fed8c82"
      },
      "outputs": [
        {
          "output_type": "execute_result",
          "data": {
            "text/plain": [
              "array([1., 1., 1., 1., 1., 1., 1., 1., 1., 1.])"
            ]
          },
          "metadata": {},
          "execution_count": 72
        }
      ],
      "source": [
        "# code here\n",
        "np.ones(10)"
      ]
    },
    {
      "cell_type": "code",
      "execution_count": null,
      "metadata": {
        "id": "yPqAS3hy_K0c",
        "outputId": "9184c803-62e6-44f0-ff83-1e2d27ee7b1a"
      },
      "outputs": [
        {
          "data": {
            "text/plain": [
              "array([1., 1., 1., 1., 1., 1., 1., 1., 1., 1.])"
            ]
          },
          "execution_count": 23,
          "metadata": {},
          "output_type": "execute_result"
        }
      ],
      "source": [
        ""
      ]
    },
    {
      "cell_type": "code",
      "execution_count": null,
      "metadata": {
        "id": "g7_XXNXZ_K0g"
      },
      "outputs": [],
      "source": [
        "# belirlenen değerler ile doldurma (np.full)"
      ]
    },
    {
      "cell_type": "code",
      "execution_count": 73,
      "metadata": {
        "colab": {
          "base_uri": "https://localhost:8080/"
        },
        "id": "Noxaax0I_K0h",
        "outputId": "2338318b-a453-47f4-8770-0c6b76896070"
      },
      "outputs": [
        {
          "output_type": "execute_result",
          "data": {
            "text/plain": [
              "array([[3., 3., 3., 3., 3.],\n",
              "       [3., 3., 3., 3., 3.],\n",
              "       [3., 3., 3., 3., 3.]])"
            ]
          },
          "metadata": {},
          "execution_count": 73
        }
      ],
      "source": [
        "# code here\n",
        "np.ones([3,5])*3"
      ]
    },
    {
      "cell_type": "code",
      "source": [
        "np.full([3,5], 3.)"
      ],
      "metadata": {
        "colab": {
          "base_uri": "https://localhost:8080/"
        },
        "id": "NMGciLsUBtdD",
        "outputId": "98388e83-37d2-44ff-f219-ed06e87db393"
      },
      "execution_count": 74,
      "outputs": [
        {
          "output_type": "execute_result",
          "data": {
            "text/plain": [
              "array([[3., 3., 3., 3., 3.],\n",
              "       [3., 3., 3., 3., 3.],\n",
              "       [3., 3., 3., 3., 3.]])"
            ]
          },
          "metadata": {},
          "execution_count": 74
        }
      ]
    },
    {
      "cell_type": "code",
      "execution_count": null,
      "metadata": {
        "id": "nN6MFu_M_K0i",
        "outputId": "b709c347-3c1f-478c-a9f4-df06aec35698"
      },
      "outputs": [
        {
          "data": {
            "text/plain": [
              "array([[3., 3., 3., 3., 3.],\n",
              "       [3., 3., 3., 3., 3.],\n",
              "       [3., 3., 3., 3., 3.]])"
            ]
          },
          "execution_count": 26,
          "metadata": {},
          "output_type": "execute_result"
        }
      ],
      "source": [
        ""
      ]
    },
    {
      "cell_type": "code",
      "execution_count": 75,
      "metadata": {
        "colab": {
          "base_uri": "https://localhost:8080/"
        },
        "id": "uvoxnDN1_K0i",
        "outputId": "4aa38fa7-6f1c-4c0d-87a7-8e232b283282"
      },
      "outputs": [
        {
          "output_type": "execute_result",
          "data": {
            "text/plain": [
              "array([ 0,  3,  6,  9, 12, 15, 18, 21, 24, 27, 30])"
            ]
          },
          "metadata": {},
          "execution_count": 75
        }
      ],
      "source": [
        "# code here (arange)\n",
        "np.arange(0,31,3)"
      ]
    },
    {
      "cell_type": "code",
      "execution_count": null,
      "metadata": {
        "id": "WfKCaSMc_K0j",
        "outputId": "f6044674-0331-4be4-bece-696ba30fb436"
      },
      "outputs": [
        {
          "data": {
            "text/plain": [
              "array([ 0,  3,  6,  9, 12, 15, 18, 21, 24, 27, 30])"
            ]
          },
          "execution_count": 135,
          "metadata": {},
          "output_type": "execute_result"
        }
      ],
      "source": [
        ""
      ]
    },
    {
      "cell_type": "code",
      "execution_count": 76,
      "metadata": {
        "colab": {
          "base_uri": "https://localhost:8080/"
        },
        "id": "MSPDsJ0n_K0j",
        "outputId": "fb8c125c-8ce2-459c-b31d-1a2708c7db65"
      },
      "outputs": [
        {
          "output_type": "execute_result",
          "data": {
            "text/plain": [
              "array([0.        , 0.11111111, 0.22222222, 0.33333333, 0.44444444,\n",
              "       0.55555556, 0.66666667, 0.77777778, 0.88888889, 1.        ])"
            ]
          },
          "metadata": {},
          "execution_count": 76
        }
      ],
      "source": [
        "# code here (linspace)\n",
        "np.linspace(0,1,10)"
      ]
    },
    {
      "cell_type": "code",
      "execution_count": null,
      "metadata": {
        "id": "8abnWeIc_K0k",
        "outputId": "cd2586d4-693a-4f04-ec5d-5fb54c2c1651"
      },
      "outputs": [
        {
          "data": {
            "text/plain": [
              "array([0.        , 0.11111111, 0.22222222, 0.33333333, 0.44444444,\n",
              "       0.55555556, 0.66666667, 0.77777778, 0.88888889, 1.        ])"
            ]
          },
          "execution_count": 136,
          "metadata": {},
          "output_type": "execute_result"
        }
      ],
      "source": [
        ""
      ]
    },
    {
      "cell_type": "code",
      "execution_count": 77,
      "metadata": {
        "colab": {
          "base_uri": "https://localhost:8080/"
        },
        "id": "LQDPTRDO_K0k",
        "outputId": "ce68d46e-16f3-4d00-d766-fb528a8fbb60"
      },
      "outputs": [
        {
          "output_type": "execute_result",
          "data": {
            "text/plain": [
              "array([[ 5.18490569,  9.45419916, 12.04649461, 14.91008599],\n",
              "       [ 8.95261558,  6.50735158, 10.88748723,  8.2842424 ],\n",
              "       [10.27214416, 10.87130294,  6.04839091,  9.79845114]])"
            ]
          },
          "metadata": {},
          "execution_count": 77
        }
      ],
      "source": [
        "# code here (random.normal)\n",
        "np.random.normal(10, 2, [3, 4])"
      ]
    },
    {
      "cell_type": "code",
      "execution_count": null,
      "metadata": {
        "id": "yBOkB0Kw_K0l",
        "outputId": "52bec96a-3711-416c-b6c1-277d0f678ea1"
      },
      "outputs": [
        {
          "data": {
            "text/plain": [
              "array([[17.36153175, 13.13320486,  7.9751651 , 10.96652924],\n",
              "       [15.88966379, 14.9596121 ,  0.79541802, 13.03982467],\n",
              "       [11.16320473,  8.95138261, 11.24850164, 14.35247169]])"
            ]
          },
          "execution_count": 27,
          "metadata": {},
          "output_type": "execute_result"
        }
      ],
      "source": [
        ""
      ]
    },
    {
      "cell_type": "code",
      "execution_count": 78,
      "metadata": {
        "colab": {
          "base_uri": "https://localhost:8080/"
        },
        "id": "dRCKlaMk_K0l",
        "outputId": "1177e9c9-fe3a-47b3-941a-bb85306b0e22"
      },
      "outputs": [
        {
          "output_type": "execute_result",
          "data": {
            "text/plain": [
              "array([[8, 3],\n",
              "       [7, 3],\n",
              "       [1, 1],\n",
              "       [0, 7],\n",
              "       [8, 7]])"
            ]
          },
          "metadata": {},
          "execution_count": 78
        }
      ],
      "source": [
        "# code here (random.randint)\n",
        "np.random.randint(0, 10, size=[5,2], dtype=int)"
      ]
    },
    {
      "cell_type": "code",
      "execution_count": null,
      "metadata": {
        "id": "J8BMFM8m_K0n",
        "outputId": "fb232e79-608b-44b2-8f0b-61dd5ba410cc"
      },
      "outputs": [
        {
          "data": {
            "text/plain": [
              "array([[5, 8],\n",
              "       [5, 2],\n",
              "       [7, 5],\n",
              "       [7, 7],\n",
              "       [0, 5]])"
            ]
          },
          "execution_count": 28,
          "metadata": {},
          "output_type": "execute_result"
        }
      ],
      "source": [
        ""
      ]
    },
    {
      "cell_type": "markdown",
      "metadata": {
        "id": "6YQGMEut_K0n"
      },
      "source": [
        "### Özellikleri"
      ]
    },
    {
      "cell_type": "markdown",
      "metadata": {
        "id": "rnViW6I7_K0o"
      },
      "source": [
        "* **ndim**: _boyut sayısı_\n",
        "* shape: boyut bilgisi\n",
        "* size: toplam eleman sayısı\n",
        "* dtype: array veri tipi"
      ]
    },
    {
      "cell_type": "code",
      "execution_count": 79,
      "metadata": {
        "id": "K_f4Yggq_K0p"
      },
      "outputs": [],
      "source": [
        "import numpy as np"
      ]
    },
    {
      "cell_type": "code",
      "execution_count": 82,
      "metadata": {
        "colab": {
          "base_uri": "https://localhost:8080/"
        },
        "id": "hMIWhIqu_K0q",
        "outputId": "805759b6-072b-4f8e-bc5d-db1177dfc645"
      },
      "outputs": [
        {
          "output_type": "execute_result",
          "data": {
            "text/plain": [
              "array([9, 1, 6, 9, 9, 6, 9, 7, 9, 1])"
            ]
          },
          "metadata": {},
          "execution_count": 82
        }
      ],
      "source": [
        "# code here(random.randint, hihg=10, size=10)\n",
        "a = np.random.randint(0, 10, size=10, dtype=int)\n",
        "a"
      ]
    },
    {
      "cell_type": "code",
      "execution_count": null,
      "metadata": {
        "id": "b6SL9Hd__K0r",
        "outputId": "afdf702a-e0b2-4939-a485-a428a8e704bc"
      },
      "outputs": [
        {
          "data": {
            "text/plain": [
              "array([9, 8, 7, 8, 5, 3, 6, 8, 2, 8])"
            ]
          },
          "execution_count": 31,
          "metadata": {},
          "output_type": "execute_result"
        }
      ],
      "source": [
        ""
      ]
    },
    {
      "cell_type": "code",
      "execution_count": 83,
      "metadata": {
        "colab": {
          "base_uri": "https://localhost:8080/"
        },
        "id": "idoAw_eA_K0s",
        "outputId": "b123987c-7775-415b-f524-d51db5446713"
      },
      "outputs": [
        {
          "output_type": "execute_result",
          "data": {
            "text/plain": [
              "1"
            ]
          },
          "metadata": {},
          "execution_count": 83
        }
      ],
      "source": [
        "# code here (find the dimension of a)\n",
        "np.ndim(a)"
      ]
    },
    {
      "cell_type": "code",
      "execution_count": null,
      "metadata": {
        "id": "czY2D8Vc_K0t",
        "outputId": "2824cc90-485a-4d82-d2a2-6b420faf18cf"
      },
      "outputs": [
        {
          "data": {
            "text/plain": [
              "1"
            ]
          },
          "execution_count": 142,
          "metadata": {},
          "output_type": "execute_result"
        }
      ],
      "source": [
        ""
      ]
    },
    {
      "cell_type": "code",
      "execution_count": 84,
      "metadata": {
        "colab": {
          "base_uri": "https://localhost:8080/"
        },
        "id": "PatMHzKU_K0u",
        "outputId": "0b98411b-8066-43dc-c42f-f32cc9c90d68"
      },
      "outputs": [
        {
          "output_type": "execute_result",
          "data": {
            "text/plain": [
              "(10,)"
            ]
          },
          "metadata": {},
          "execution_count": 84
        }
      ],
      "source": [
        "# code here (find the shape of a)\n",
        "a.shape"
      ]
    },
    {
      "cell_type": "code",
      "execution_count": null,
      "metadata": {
        "id": "MY4fZfnp_K0u",
        "outputId": "98447db0-3f55-4de2-b8c2-e84da4030399"
      },
      "outputs": [
        {
          "data": {
            "text/plain": [
              "(10,)"
            ]
          },
          "execution_count": 143,
          "metadata": {},
          "output_type": "execute_result"
        }
      ],
      "source": [
        ""
      ]
    },
    {
      "cell_type": "code",
      "execution_count": 85,
      "metadata": {
        "colab": {
          "base_uri": "https://localhost:8080/"
        },
        "id": "pZsBYqxd_K0v",
        "outputId": "fac24a7b-34f2-452d-8052-b05e0bb92e9e"
      },
      "outputs": [
        {
          "output_type": "execute_result",
          "data": {
            "text/plain": [
              "10"
            ]
          },
          "metadata": {},
          "execution_count": 85
        }
      ],
      "source": [
        "# code here (find the size of a)\n",
        "np.size(a)"
      ]
    },
    {
      "cell_type": "code",
      "execution_count": null,
      "metadata": {
        "id": "RHBu3M3v_K0v",
        "outputId": "333e8233-129d-4d75-d400-849ec6aefaf9"
      },
      "outputs": [
        {
          "data": {
            "text/plain": [
              "10"
            ]
          },
          "execution_count": 144,
          "metadata": {},
          "output_type": "execute_result"
        }
      ],
      "source": [
        ""
      ]
    },
    {
      "cell_type": "code",
      "execution_count": 86,
      "metadata": {
        "colab": {
          "base_uri": "https://localhost:8080/"
        },
        "id": "QqotEOO8_K0w",
        "outputId": "2f446ba2-5a82-4ed2-b84d-8e02f0bede48"
      },
      "outputs": [
        {
          "output_type": "execute_result",
          "data": {
            "text/plain": [
              "dtype('int64')"
            ]
          },
          "metadata": {},
          "execution_count": 86
        }
      ],
      "source": [
        "# code here (find the dtype of a)\n",
        "a.dtype"
      ]
    },
    {
      "cell_type": "code",
      "execution_count": null,
      "metadata": {
        "id": "MFMKY4A5_K0w",
        "outputId": "838d8aaa-b00d-497e-b71b-a3404220d9ce"
      },
      "outputs": [
        {
          "data": {
            "text/plain": [
              "dtype('int32')"
            ]
          },
          "execution_count": 145,
          "metadata": {},
          "output_type": "execute_result"
        }
      ],
      "source": [
        ""
      ]
    },
    {
      "cell_type": "code",
      "execution_count": 87,
      "metadata": {
        "colab": {
          "base_uri": "https://localhost:8080/"
        },
        "id": "bK-bP_60_K0x",
        "outputId": "3dc6e253-608a-4e70-ba98-c10026f4f24b"
      },
      "outputs": [
        {
          "output_type": "execute_result",
          "data": {
            "text/plain": [
              "array([[19, 10,  6, 12, 13, 11],\n",
              "       [17,  4, 10, 12,  1,  1],\n",
              "       [19,  4,  3,  8,  9, 12],\n",
              "       [12,  3, 18, 13, 19,  3]])"
            ]
          },
          "metadata": {},
          "execution_count": 87
        }
      ],
      "source": [
        "# code here(assign your code to 'b', random.randint, hihg=20, size=(4,6))\n",
        "b=np.random.randint(0, high=20, size=(4,6))\n",
        "b"
      ]
    },
    {
      "cell_type": "code",
      "execution_count": null,
      "metadata": {
        "id": "6lqrUMd1_K0y"
      },
      "outputs": [],
      "source": [
        ""
      ]
    },
    {
      "cell_type": "code",
      "execution_count": null,
      "metadata": {
        "id": "eD2QBO_M_K0y",
        "outputId": "497bf6eb-6134-4bcc-ee13-cb03edd01e4c"
      },
      "outputs": [
        {
          "data": {
            "text/plain": [
              "array([[14, 16,  3,  7,  1],\n",
              "       [ 3, 16,  2,  6,  0],\n",
              "       [15,  9,  8,  9, 19],\n",
              "       [ 3, 10,  4,  6, 15]])"
            ]
          },
          "execution_count": 33,
          "metadata": {},
          "output_type": "execute_result"
        }
      ],
      "source": [
        "b"
      ]
    },
    {
      "cell_type": "code",
      "execution_count": 88,
      "metadata": {
        "colab": {
          "base_uri": "https://localhost:8080/"
        },
        "id": "zg7ZXWpY_K0z",
        "outputId": "7a68d411-fd69-4576-fc8d-6c5e9cf71066"
      },
      "outputs": [
        {
          "output_type": "execute_result",
          "data": {
            "text/plain": [
              "2"
            ]
          },
          "metadata": {},
          "execution_count": 88
        }
      ],
      "source": [
        "# code here (find the dimension of b)\n",
        "np.ndim(b)"
      ]
    },
    {
      "cell_type": "code",
      "execution_count": null,
      "metadata": {
        "id": "-lTZ69uu_K00",
        "outputId": "fe619bf6-bf38-4dc2-cd95-7299fefbc58b"
      },
      "outputs": [
        {
          "data": {
            "text/plain": [
              "2"
            ]
          },
          "execution_count": 35,
          "metadata": {},
          "output_type": "execute_result"
        }
      ],
      "source": [
        ""
      ]
    },
    {
      "cell_type": "code",
      "execution_count": 89,
      "metadata": {
        "colab": {
          "base_uri": "https://localhost:8080/"
        },
        "id": "fNJ8e5bq_K00",
        "outputId": "bf5ea6f2-d711-401b-e781-ad21cf31189a"
      },
      "outputs": [
        {
          "output_type": "execute_result",
          "data": {
            "text/plain": [
              "(4, 6)"
            ]
          },
          "metadata": {},
          "execution_count": 89
        }
      ],
      "source": [
        "# code here (find the shape of b)\n",
        "b.shape"
      ]
    },
    {
      "cell_type": "code",
      "execution_count": null,
      "metadata": {
        "id": "j365L_tz_K01",
        "outputId": "b539a3dc-15a8-48bf-eaf6-a73931b1d991"
      },
      "outputs": [
        {
          "data": {
            "text/plain": [
              "(4, 6)"
            ]
          },
          "execution_count": 36,
          "metadata": {},
          "output_type": "execute_result"
        }
      ],
      "source": [
        ""
      ]
    },
    {
      "cell_type": "code",
      "execution_count": null,
      "metadata": {
        "id": "hKT47qP8_K02"
      },
      "outputs": [],
      "source": [
        "# code here (find the size of b)"
      ]
    },
    {
      "cell_type": "code",
      "source": [
        "np.size(b)"
      ],
      "metadata": {
        "colab": {
          "base_uri": "https://localhost:8080/"
        },
        "id": "K9kTnTv9XqPm",
        "outputId": "491e5800-6d87-4d56-a1e5-e22352186bc5"
      },
      "execution_count": 80,
      "outputs": [
        {
          "output_type": "execute_result",
          "data": {
            "text/plain": [
              "24"
            ]
          },
          "metadata": {},
          "execution_count": 80
        }
      ]
    },
    {
      "cell_type": "code",
      "execution_count": null,
      "metadata": {
        "id": "TC70wOVv_K02",
        "outputId": "09aa8f7e-f45e-4d9b-8f27-041012eabe95"
      },
      "outputs": [
        {
          "data": {
            "text/plain": [
              "24"
            ]
          },
          "execution_count": 37,
          "metadata": {},
          "output_type": "execute_result"
        }
      ],
      "source": [
        ""
      ]
    },
    {
      "cell_type": "code",
      "execution_count": null,
      "metadata": {
        "id": "TsaA7G7Q_K03"
      },
      "outputs": [],
      "source": [
        "# code here (find the dtype of b)"
      ]
    },
    {
      "cell_type": "code",
      "source": [
        "b.dtype"
      ],
      "metadata": {
        "colab": {
          "base_uri": "https://localhost:8080/"
        },
        "id": "tu6vsJLlXvDu",
        "outputId": "2597ffc9-1fe4-4a4f-d7c7-31d13005c604"
      },
      "execution_count": 83,
      "outputs": [
        {
          "output_type": "execute_result",
          "data": {
            "text/plain": [
              "dtype('int64')"
            ]
          },
          "metadata": {},
          "execution_count": 83
        }
      ]
    },
    {
      "cell_type": "code",
      "execution_count": null,
      "metadata": {
        "id": "cLHboGH7_K04",
        "outputId": "02bf6339-2f5e-42ad-d0af-b290eb80d017"
      },
      "outputs": [
        {
          "data": {
            "text/plain": [
              "dtype('int32')"
            ]
          },
          "execution_count": 38,
          "metadata": {},
          "output_type": "execute_result"
        }
      ],
      "source": [
        ""
      ]
    },
    {
      "cell_type": "markdown",
      "metadata": {
        "id": "Ban5JUiJ_K04"
      },
      "source": [
        "# Yeniden Şekillendirme (Reshaping)"
      ]
    },
    {
      "cell_type": "code",
      "execution_count": 84,
      "metadata": {
        "id": "2dp-cNWy_K05"
      },
      "outputs": [],
      "source": [
        "import numpy as np"
      ]
    },
    {
      "cell_type": "code",
      "execution_count": null,
      "metadata": {
        "id": "op1eJN7H_K05"
      },
      "outputs": [],
      "source": [
        "# code here (arange, start=1, stop=10)"
      ]
    },
    {
      "cell_type": "code",
      "source": [
        "np.arange(1,10)"
      ],
      "metadata": {
        "colab": {
          "base_uri": "https://localhost:8080/"
        },
        "id": "gKMKBBp_X8sW",
        "outputId": "ad0ca35b-2854-468b-91cd-2b87402b382f"
      },
      "execution_count": 86,
      "outputs": [
        {
          "output_type": "execute_result",
          "data": {
            "text/plain": [
              "array([1, 2, 3, 4, 5, 6, 7, 8, 9])"
            ]
          },
          "metadata": {},
          "execution_count": 86
        }
      ]
    },
    {
      "cell_type": "code",
      "execution_count": null,
      "metadata": {
        "id": "PDPEiy5l_K06",
        "outputId": "1aa9f3fd-d296-4dbe-f748-cad5bb69d92e"
      },
      "outputs": [
        {
          "data": {
            "text/plain": [
              "array([1, 2, 3, 4, 5, 6, 7, 8, 9])"
            ]
          },
          "execution_count": 153,
          "metadata": {},
          "output_type": "execute_result"
        }
      ],
      "source": [
        ""
      ]
    },
    {
      "cell_type": "code",
      "execution_count": null,
      "metadata": {
        "id": "QRFEheIB_K06"
      },
      "outputs": [],
      "source": [
        "# code here (reshape (3,3) your coding above)"
      ]
    },
    {
      "cell_type": "code",
      "source": [
        "np.arange(1,10).reshape(3,3)"
      ],
      "metadata": {
        "colab": {
          "base_uri": "https://localhost:8080/"
        },
        "id": "PVlkPNY3YPss",
        "outputId": "f0b961f2-98f6-403e-eb47-3631086995f5"
      },
      "execution_count": 87,
      "outputs": [
        {
          "output_type": "execute_result",
          "data": {
            "text/plain": [
              "array([[1, 2, 3],\n",
              "       [4, 5, 6],\n",
              "       [7, 8, 9]])"
            ]
          },
          "metadata": {},
          "execution_count": 87
        }
      ]
    },
    {
      "cell_type": "code",
      "execution_count": null,
      "metadata": {
        "id": "-Nns0KA-_K07",
        "outputId": "fd91ab04-283e-4007-dee6-9af0f071601a"
      },
      "outputs": [
        {
          "data": {
            "text/plain": [
              "array([[1, 2, 3],\n",
              "       [4, 5, 6],\n",
              "       [7, 8, 9]])"
            ]
          },
          "execution_count": 154,
          "metadata": {},
          "output_type": "execute_result"
        }
      ],
      "source": [
        ""
      ]
    },
    {
      "cell_type": "code",
      "execution_count": 88,
      "metadata": {
        "id": "87gUZr6v_K07"
      },
      "outputs": [],
      "source": [
        "a = np.arange(1,10)"
      ]
    },
    {
      "cell_type": "code",
      "execution_count": 89,
      "metadata": {
        "colab": {
          "base_uri": "https://localhost:8080/"
        },
        "id": "Ti_fejJe_K07",
        "outputId": "ce70975e-aad8-477b-a8d1-1a1e8c5229cc"
      },
      "outputs": [
        {
          "output_type": "execute_result",
          "data": {
            "text/plain": [
              "array([1, 2, 3, 4, 5, 6, 7, 8, 9])"
            ]
          },
          "metadata": {},
          "execution_count": 89
        }
      ],
      "source": [
        "a"
      ]
    },
    {
      "cell_type": "code",
      "execution_count": null,
      "metadata": {
        "id": "2cI-tPod_K08"
      },
      "outputs": [],
      "source": [
        "# code here (find the dimension of a)"
      ]
    },
    {
      "cell_type": "code",
      "source": [
        "np.ndim(a)"
      ],
      "metadata": {
        "colab": {
          "base_uri": "https://localhost:8080/"
        },
        "id": "TKE1iQjzYZYG",
        "outputId": "9227b3ba-32d6-4aec-8e0e-dc92d23e74f3"
      },
      "execution_count": 90,
      "outputs": [
        {
          "output_type": "execute_result",
          "data": {
            "text/plain": [
              "1"
            ]
          },
          "metadata": {},
          "execution_count": 90
        }
      ]
    },
    {
      "cell_type": "code",
      "execution_count": null,
      "metadata": {
        "id": "kUXqdPOz_K08",
        "outputId": "3a56cff7-028c-4444-ad1f-9da5ae08f567"
      },
      "outputs": [
        {
          "data": {
            "text/plain": [
              "1"
            ]
          },
          "execution_count": 157,
          "metadata": {},
          "output_type": "execute_result"
        }
      ],
      "source": [
        ""
      ]
    },
    {
      "cell_type": "code",
      "source": [
        "type(a)"
      ],
      "metadata": {
        "colab": {
          "base_uri": "https://localhost:8080/"
        },
        "id": "B44RV85wYune",
        "outputId": "7f40f298-c08f-47fa-da17-8ea990da597c"
      },
      "execution_count": 96,
      "outputs": [
        {
          "output_type": "execute_result",
          "data": {
            "text/plain": [
              "numpy.ndarray"
            ]
          },
          "metadata": {},
          "execution_count": 96
        }
      ]
    },
    {
      "cell_type": "code",
      "source": [
        "a.shape"
      ],
      "metadata": {
        "colab": {
          "base_uri": "https://localhost:8080/"
        },
        "id": "Ak_ATggrZLHC",
        "outputId": "f0198a4a-e71e-4e69-a49f-11e281cd4049"
      },
      "execution_count": 99,
      "outputs": [
        {
          "output_type": "execute_result",
          "data": {
            "text/plain": [
              "(9,)"
            ]
          },
          "metadata": {},
          "execution_count": 99
        }
      ]
    },
    {
      "cell_type": "code",
      "execution_count": null,
      "metadata": {
        "id": "Nz--6Hqw_K09"
      },
      "outputs": [],
      "source": [
        "# code here (reshape a as (1,9) and assign to b)"
      ]
    },
    {
      "cell_type": "code",
      "source": [
        "b = a.reshape(1,9)\n",
        "b"
      ],
      "metadata": {
        "colab": {
          "base_uri": "https://localhost:8080/"
        },
        "id": "LlbumAmaYdJC",
        "outputId": "489ea0a4-1ebf-48df-b1d7-e774c3c6f413"
      },
      "execution_count": 92,
      "outputs": [
        {
          "output_type": "execute_result",
          "data": {
            "text/plain": [
              "array([[1, 2, 3, 4, 5, 6, 7, 8, 9]])"
            ]
          },
          "metadata": {},
          "execution_count": 92
        }
      ]
    },
    {
      "cell_type": "code",
      "execution_count": null,
      "metadata": {
        "id": "FHuQ6EQy_K09",
        "outputId": "789538f1-f9cb-4880-aecc-e1b9a744a01f"
      },
      "outputs": [
        {
          "data": {
            "text/plain": [
              "array([[1, 2, 3, 4, 5, 6, 7, 8, 9]])"
            ]
          },
          "execution_count": 159,
          "metadata": {},
          "output_type": "execute_result"
        }
      ],
      "source": [
        "b"
      ]
    },
    {
      "cell_type": "code",
      "execution_count": null,
      "metadata": {
        "id": "trbqTP7j_K0-"
      },
      "outputs": [],
      "source": [
        "# code here (find the dimension of b)"
      ]
    },
    {
      "cell_type": "code",
      "source": [
        "np.ndim(b)"
      ],
      "metadata": {
        "colab": {
          "base_uri": "https://localhost:8080/"
        },
        "id": "SbEK3WSNYl9H",
        "outputId": "57050882-acce-4bf4-946e-d15ceff7eac7"
      },
      "execution_count": 93,
      "outputs": [
        {
          "output_type": "execute_result",
          "data": {
            "text/plain": [
              "2"
            ]
          },
          "metadata": {},
          "execution_count": 93
        }
      ]
    },
    {
      "cell_type": "code",
      "execution_count": null,
      "metadata": {
        "id": "JTOtKFJ5_K0-",
        "outputId": "e271113b-25c9-43c2-f674-9a022aa723d8"
      },
      "outputs": [
        {
          "data": {
            "text/plain": [
              "2"
            ]
          },
          "execution_count": 160,
          "metadata": {},
          "output_type": "execute_result"
        }
      ],
      "source": [
        ""
      ]
    },
    {
      "cell_type": "code",
      "source": [
        "b.shape"
      ],
      "metadata": {
        "colab": {
          "base_uri": "https://localhost:8080/"
        },
        "id": "mjEdrs39ZGWH",
        "outputId": "28364d34-e663-4932-f708-99c284fd1c99"
      },
      "execution_count": 98,
      "outputs": [
        {
          "output_type": "execute_result",
          "data": {
            "text/plain": [
              "(1, 9)"
            ]
          },
          "metadata": {},
          "execution_count": 98
        }
      ]
    },
    {
      "cell_type": "code",
      "source": [
        "type(b)"
      ],
      "metadata": {
        "colab": {
          "base_uri": "https://localhost:8080/"
        },
        "id": "07_SUrIZY7LF",
        "outputId": "3387d023-b8da-4d6e-cc07-e88f444405b7"
      },
      "execution_count": 97,
      "outputs": [
        {
          "output_type": "execute_result",
          "data": {
            "text/plain": [
              "numpy.ndarray"
            ]
          },
          "metadata": {},
          "execution_count": 97
        }
      ]
    },
    {
      "cell_type": "markdown",
      "metadata": {
        "id": "hKxKTAsO_K0-"
      },
      "source": [
        "### Array Birlestirme (Concatenation)"
      ]
    },
    {
      "cell_type": "code",
      "execution_count": 100,
      "metadata": {
        "id": "ILG7rihv_K0_"
      },
      "outputs": [],
      "source": [
        "import numpy as np"
      ]
    },
    {
      "cell_type": "code",
      "execution_count": 101,
      "metadata": {
        "id": "RRSYf_Xt_K0_"
      },
      "outputs": [],
      "source": [
        "x = np.array([1,2,3])\n",
        "y = np.array([4,5,6])"
      ]
    },
    {
      "cell_type": "code",
      "execution_count": null,
      "metadata": {
        "id": "vyv3S9gO_K0_"
      },
      "outputs": [],
      "source": [
        "# code here (concatenate x and y)"
      ]
    },
    {
      "cell_type": "code",
      "source": [
        "np.concatenate((x, y), axis=0)"
      ],
      "metadata": {
        "colab": {
          "base_uri": "https://localhost:8080/"
        },
        "id": "eXkWS6kGav0i",
        "outputId": "010b5a55-bc80-4f18-9885-57661326d3e4"
      },
      "execution_count": 106,
      "outputs": [
        {
          "output_type": "execute_result",
          "data": {
            "text/plain": [
              "array([1, 2, 3, 4, 5, 6])"
            ]
          },
          "metadata": {},
          "execution_count": 106
        }
      ]
    },
    {
      "cell_type": "code",
      "execution_count": null,
      "metadata": {
        "id": "lZEOr3sS_K1A",
        "outputId": "d98108dd-bfc8-4653-d843-301f0b5db749"
      },
      "outputs": [
        {
          "data": {
            "text/plain": [
              "array([1, 2, 3, 4, 5, 6])"
            ]
          },
          "execution_count": 163,
          "metadata": {},
          "output_type": "execute_result"
        }
      ],
      "source": [
        ""
      ]
    },
    {
      "cell_type": "code",
      "source": [
        "z = x+y\n",
        "z"
      ],
      "metadata": {
        "colab": {
          "base_uri": "https://localhost:8080/"
        },
        "id": "iEOkBx-DeeZX",
        "outputId": "ff54254e-8d89-4b3a-9293-4be9713ee123"
      },
      "execution_count": 107,
      "outputs": [
        {
          "output_type": "execute_result",
          "data": {
            "text/plain": [
              "array([5, 7, 9])"
            ]
          },
          "metadata": {},
          "execution_count": 107
        }
      ]
    },
    {
      "cell_type": "code",
      "execution_count": 108,
      "metadata": {
        "id": "oCTTQaNL_K1A"
      },
      "outputs": [],
      "source": [
        "z = np.array([7,8,9])"
      ]
    },
    {
      "cell_type": "code",
      "execution_count": null,
      "metadata": {
        "id": "mNt9GCkJ_K1A"
      },
      "outputs": [],
      "source": [
        "# code here (concatenate x, y and z)"
      ]
    },
    {
      "cell_type": "code",
      "source": [
        "np.concatenate((x, y, z), axis=0)"
      ],
      "metadata": {
        "colab": {
          "base_uri": "https://localhost:8080/"
        },
        "id": "asBEEdW1ej4m",
        "outputId": "24d485a3-d715-45ba-c41b-6cb6f8b1660e"
      },
      "execution_count": 109,
      "outputs": [
        {
          "output_type": "execute_result",
          "data": {
            "text/plain": [
              "array([1, 2, 3, 4, 5, 6, 7, 8, 9])"
            ]
          },
          "metadata": {},
          "execution_count": 109
        }
      ]
    },
    {
      "cell_type": "code",
      "execution_count": null,
      "metadata": {
        "id": "_eCDdzN3_K1B",
        "outputId": "93c00b51-5e86-4399-efaf-801b92e7af4f"
      },
      "outputs": [
        {
          "data": {
            "text/plain": [
              "array([1, 2, 3, 4, 5, 6, 7, 8, 9])"
            ]
          },
          "execution_count": 165,
          "metadata": {},
          "output_type": "execute_result"
        }
      ],
      "source": [
        ""
      ]
    },
    {
      "cell_type": "code",
      "execution_count": null,
      "metadata": {
        "id": "y14PjJyC_K1B"
      },
      "outputs": [],
      "source": [
        "# code here (concatenate z, y and x)"
      ]
    },
    {
      "cell_type": "code",
      "source": [
        "np.concatenate((z, y, x), axis=0)"
      ],
      "metadata": {
        "colab": {
          "base_uri": "https://localhost:8080/"
        },
        "id": "m9iQ8USPerWj",
        "outputId": "afcdfa95-8f84-4677-bede-989f11c3d5b0"
      },
      "execution_count": 110,
      "outputs": [
        {
          "output_type": "execute_result",
          "data": {
            "text/plain": [
              "array([7, 8, 9, 4, 5, 6, 1, 2, 3])"
            ]
          },
          "metadata": {},
          "execution_count": 110
        }
      ]
    },
    {
      "cell_type": "code",
      "execution_count": null,
      "metadata": {
        "id": "ZBnq5-UB_K1C",
        "outputId": "1600f553-0cde-4f09-ad05-60811d8f255c"
      },
      "outputs": [
        {
          "data": {
            "text/plain": [
              "array([7, 8, 9, 4, 5, 6, 1, 2, 3])"
            ]
          },
          "execution_count": 166,
          "metadata": {},
          "output_type": "execute_result"
        }
      ],
      "source": [
        ""
      ]
    },
    {
      "cell_type": "code",
      "execution_count": 111,
      "metadata": {
        "id": "76VrtP-__K1C"
      },
      "outputs": [],
      "source": [
        "a = np.array([[1,2,3], \n",
        "              [4,5,6]])"
      ]
    },
    {
      "cell_type": "code",
      "execution_count": null,
      "metadata": {
        "id": "K4r21vWx_K1C"
      },
      "outputs": [],
      "source": [
        "# code here (concatenate a and a)"
      ]
    },
    {
      "cell_type": "code",
      "source": [
        "np.concatenate((a, a), axis=0)"
      ],
      "metadata": {
        "colab": {
          "base_uri": "https://localhost:8080/"
        },
        "id": "nwoDD9QiexJ2",
        "outputId": "402af939-4756-43a7-bdb5-8d1869d98b13"
      },
      "execution_count": 112,
      "outputs": [
        {
          "output_type": "execute_result",
          "data": {
            "text/plain": [
              "array([[1, 2, 3],\n",
              "       [4, 5, 6],\n",
              "       [1, 2, 3],\n",
              "       [4, 5, 6]])"
            ]
          },
          "metadata": {},
          "execution_count": 112
        }
      ]
    },
    {
      "cell_type": "code",
      "execution_count": null,
      "metadata": {
        "id": "VD0GMXh2_K1D",
        "outputId": "e2605ff0-1e85-4b33-855e-9cff0fb1d4bd"
      },
      "outputs": [
        {
          "data": {
            "text/plain": [
              "array([[1, 2, 3],\n",
              "       [4, 5, 6],\n",
              "       [1, 2, 3],\n",
              "       [4, 5, 6]])"
            ]
          },
          "execution_count": 169,
          "metadata": {},
          "output_type": "execute_result"
        }
      ],
      "source": [
        ""
      ]
    },
    {
      "cell_type": "code",
      "execution_count": null,
      "metadata": {
        "id": "zAZsEtP7_K1D"
      },
      "outputs": [],
      "source": [
        "# code here (concatenate a and a)"
      ]
    },
    {
      "cell_type": "code",
      "source": [
        "np.concatenate((a, a), axis=1)"
      ],
      "metadata": {
        "colab": {
          "base_uri": "https://localhost:8080/"
        },
        "id": "sBE4VUk4e2AC",
        "outputId": "f25e9dae-76e5-4b89-e433-2349e8e1813e"
      },
      "execution_count": 113,
      "outputs": [
        {
          "output_type": "execute_result",
          "data": {
            "text/plain": [
              "array([[1, 2, 3, 1, 2, 3],\n",
              "       [4, 5, 6, 4, 5, 6]])"
            ]
          },
          "metadata": {},
          "execution_count": 113
        }
      ]
    },
    {
      "cell_type": "code",
      "execution_count": null,
      "metadata": {
        "id": "LKt-T-S5_K1D",
        "outputId": "85112010-e933-4056-f91b-5ee2a7e8448b"
      },
      "outputs": [
        {
          "data": {
            "text/plain": [
              "array([[1, 2, 3, 1, 2, 3],\n",
              "       [4, 5, 6, 4, 5, 6]])"
            ]
          },
          "execution_count": 170,
          "metadata": {},
          "output_type": "execute_result"
        }
      ],
      "source": [
        ""
      ]
    },
    {
      "cell_type": "markdown",
      "metadata": {
        "id": "6heQMTsu_K1E"
      },
      "source": [
        "# Array Ayırma (Splitting)"
      ]
    },
    {
      "cell_type": "code",
      "execution_count": 114,
      "metadata": {
        "id": "GgyLx-Cs_K1E"
      },
      "outputs": [],
      "source": [
        "import numpy as np"
      ]
    },
    {
      "cell_type": "code",
      "execution_count": 184,
      "metadata": {
        "id": "MUiCCBSI_K1E"
      },
      "outputs": [],
      "source": [
        "x = np.array([1,2,3,99,99,3,2,1])"
      ]
    },
    {
      "cell_type": "code",
      "execution_count": null,
      "metadata": {
        "id": "Yec3uaN5_K1F"
      },
      "outputs": [],
      "source": [
        "# code here (split x from 3 and 5)"
      ]
    },
    {
      "cell_type": "code",
      "source": [
        "np.split(x, [3, 5, 8], axis=0)"
      ],
      "metadata": {
        "colab": {
          "base_uri": "https://localhost:8080/"
        },
        "id": "kxCz9bV2fNyE",
        "outputId": "b866e4ae-fbdf-4e0a-f812-f96e6d86443f"
      },
      "execution_count": 185,
      "outputs": [
        {
          "output_type": "execute_result",
          "data": {
            "text/plain": [
              "[array([1, 2, 3]), array([99, 99]), array([3, 2, 1]), array([], dtype=int64)]"
            ]
          },
          "metadata": {},
          "execution_count": 185
        }
      ]
    },
    {
      "cell_type": "code",
      "execution_count": null,
      "metadata": {
        "id": "fPhoYql__K1F",
        "outputId": "9a3da7bd-4c85-45cf-fc85-719ba487b202"
      },
      "outputs": [
        {
          "data": {
            "text/plain": [
              "[array([1, 2, 3]), array([99, 99]), array([3, 2, 1])]"
            ]
          },
          "execution_count": 173,
          "metadata": {},
          "output_type": "execute_result"
        }
      ],
      "source": [
        ""
      ]
    },
    {
      "cell_type": "code",
      "execution_count": null,
      "metadata": {
        "id": "XeVX0udC_K1G"
      },
      "outputs": [],
      "source": [
        "# code here (do a tuple unpacking for above splitting in order of a,b,c)"
      ]
    },
    {
      "cell_type": "code",
      "execution_count": 186,
      "metadata": {
        "colab": {
          "base_uri": "https://localhost:8080/"
        },
        "id": "6j4l0cwM_K1H",
        "outputId": "52913a3f-1404-4a3d-9070-ebe403b36a9d"
      },
      "outputs": [
        {
          "output_type": "execute_result",
          "data": {
            "text/plain": [
              "array([1, 2, 3])"
            ]
          },
          "metadata": {},
          "execution_count": 186
        }
      ],
      "source": [
        "a = np.split(x, [3, 5, 8], axis=0)[0]\n",
        "a"
      ]
    },
    {
      "cell_type": "code",
      "execution_count": 188,
      "metadata": {
        "colab": {
          "base_uri": "https://localhost:8080/"
        },
        "id": "4PSfOR7M_K1I",
        "outputId": "9a013d2d-d2ac-4922-e93c-2c92c5953cc5"
      },
      "outputs": [
        {
          "output_type": "execute_result",
          "data": {
            "text/plain": [
              "array([99, 99])"
            ]
          },
          "metadata": {},
          "execution_count": 188
        }
      ],
      "source": [
        "b = np.split(x, [3, 5, 8], axis=0)[1]\n",
        "b"
      ]
    },
    {
      "cell_type": "code",
      "execution_count": 189,
      "metadata": {
        "colab": {
          "base_uri": "https://localhost:8080/"
        },
        "id": "m7gKuyAt_K1I",
        "outputId": "863f23b4-fcf5-4dde-b4fe-47d01270ca6a"
      },
      "outputs": [
        {
          "output_type": "execute_result",
          "data": {
            "text/plain": [
              "array([3, 2, 1])"
            ]
          },
          "metadata": {},
          "execution_count": 189
        }
      ],
      "source": [
        "c = np.split(x, [3, 5, 8], axis=0)[2]\n",
        "c"
      ]
    },
    {
      "cell_type": "code",
      "execution_count": null,
      "metadata": {
        "id": "vkSQ5ZfV_K1J"
      },
      "outputs": [],
      "source": [
        "#iki boyutlu ayırma"
      ]
    },
    {
      "cell_type": "code",
      "execution_count": 130,
      "metadata": {
        "colab": {
          "base_uri": "https://localhost:8080/"
        },
        "id": "b8QJ5WFZ_K1J",
        "outputId": "dc25b950-209e-4523-e322-b371f61c68b8"
      },
      "outputs": [
        {
          "output_type": "execute_result",
          "data": {
            "text/plain": [
              "array([[ 0,  1,  2,  3],\n",
              "       [ 4,  5,  6,  7],\n",
              "       [ 8,  9, 10, 11],\n",
              "       [12, 13, 14, 15]])"
            ]
          },
          "metadata": {},
          "execution_count": 130
        }
      ],
      "source": [
        "m = np.arange(16).reshape(4,4)\n",
        "m"
      ]
    },
    {
      "cell_type": "code",
      "execution_count": null,
      "metadata": {
        "id": "LztHN2AS_K1J"
      },
      "outputs": [],
      "source": [
        "# code here (split m)"
      ]
    },
    {
      "cell_type": "code",
      "source": [
        "np.split(m, 2, axis=0)"
      ],
      "metadata": {
        "colab": {
          "base_uri": "https://localhost:8080/"
        },
        "id": "Nfd84O6Ri5Uq",
        "outputId": "69413233-b29c-4a55-d0a2-6a3c26f30f48"
      },
      "execution_count": 136,
      "outputs": [
        {
          "output_type": "execute_result",
          "data": {
            "text/plain": [
              "[array([[0, 1, 2, 3],\n",
              "        [4, 5, 6, 7]]), array([[ 8,  9, 10, 11],\n",
              "        [12, 13, 14, 15]])]"
            ]
          },
          "metadata": {},
          "execution_count": 136
        }
      ]
    },
    {
      "cell_type": "code",
      "execution_count": null,
      "metadata": {
        "id": "ioqKjbMA_K1K",
        "outputId": "816127fa-cdbb-4076-9899-18650198bcbc"
      },
      "outputs": [
        {
          "data": {
            "text/plain": [
              "[array([[0, 1, 2, 3],\n",
              "        [4, 5, 6, 7]]),\n",
              " array([[ 8,  9, 10, 11],\n",
              "        [12, 13, 14, 15]])]"
            ]
          },
          "execution_count": 55,
          "metadata": {},
          "output_type": "execute_result"
        }
      ],
      "source": [
        ""
      ]
    },
    {
      "cell_type": "code",
      "execution_count": null,
      "metadata": {
        "id": "kt7zGXc3_K1K"
      },
      "outputs": [],
      "source": [
        "# code here (split m)"
      ]
    },
    {
      "cell_type": "code",
      "source": [
        "np.split(m, 2, axis=1)"
      ],
      "metadata": {
        "colab": {
          "base_uri": "https://localhost:8080/"
        },
        "id": "fFJ2ii_gjU3G",
        "outputId": "d4810573-d716-47b3-b9e3-a7407041ec44"
      },
      "execution_count": 137,
      "outputs": [
        {
          "output_type": "execute_result",
          "data": {
            "text/plain": [
              "[array([[ 0,  1],\n",
              "        [ 4,  5],\n",
              "        [ 8,  9],\n",
              "        [12, 13]]), array([[ 2,  3],\n",
              "        [ 6,  7],\n",
              "        [10, 11],\n",
              "        [14, 15]])]"
            ]
          },
          "metadata": {},
          "execution_count": 137
        }
      ]
    },
    {
      "cell_type": "code",
      "execution_count": null,
      "metadata": {
        "id": "FUlz_OvV_K1K",
        "outputId": "e1739b8f-01e6-4f11-f38a-97cbc433f4b0"
      },
      "outputs": [
        {
          "data": {
            "text/plain": [
              "[array([[ 0,  1],\n",
              "        [ 4,  5],\n",
              "        [ 8,  9],\n",
              "        [12, 13]]),\n",
              " array([[ 2,  3],\n",
              "        [ 6,  7],\n",
              "        [10, 11],\n",
              "        [14, 15]])]"
            ]
          },
          "execution_count": 185,
          "metadata": {},
          "output_type": "execute_result"
        }
      ],
      "source": [
        ""
      ]
    },
    {
      "cell_type": "markdown",
      "metadata": {
        "id": "gTdF9VLr_K1L"
      },
      "source": [
        "### Array Sıralama (Sorting)"
      ]
    },
    {
      "cell_type": "code",
      "execution_count": 138,
      "metadata": {
        "id": "XENHQuk__K1L"
      },
      "outputs": [],
      "source": [
        "import numpy as np"
      ]
    },
    {
      "cell_type": "code",
      "execution_count": 139,
      "metadata": {
        "id": "9CQ9h0J7_K1L"
      },
      "outputs": [],
      "source": [
        "v = np.array([2,1,4,3,5])"
      ]
    },
    {
      "cell_type": "code",
      "execution_count": 140,
      "metadata": {
        "colab": {
          "base_uri": "https://localhost:8080/"
        },
        "id": "xV8HBeQs_K1M",
        "outputId": "526839cc-34b8-4d35-95e8-2828a7e2c350"
      },
      "outputs": [
        {
          "output_type": "execute_result",
          "data": {
            "text/plain": [
              "array([2, 1, 4, 3, 5])"
            ]
          },
          "metadata": {},
          "execution_count": 140
        }
      ],
      "source": [
        "v"
      ]
    },
    {
      "cell_type": "code",
      "execution_count": null,
      "metadata": {
        "id": "roPck39F_K1N"
      },
      "outputs": [],
      "source": [
        "# code here (sort v)"
      ]
    },
    {
      "cell_type": "code",
      "source": [
        "v.sort()"
      ],
      "metadata": {
        "id": "qsozUcPaj9HV"
      },
      "execution_count": 144,
      "outputs": []
    },
    {
      "cell_type": "code",
      "source": [
        "np.sort(v)"
      ],
      "metadata": {
        "colab": {
          "base_uri": "https://localhost:8080/"
        },
        "id": "BLNqTzwGkISp",
        "outputId": "e7f8dc3c-8ac9-4f0e-8eeb-0a44376ee47d"
      },
      "execution_count": 146,
      "outputs": [
        {
          "output_type": "execute_result",
          "data": {
            "text/plain": [
              "array([1, 2, 3, 4, 5])"
            ]
          },
          "metadata": {},
          "execution_count": 146
        }
      ]
    },
    {
      "cell_type": "code",
      "execution_count": null,
      "metadata": {
        "id": "QUXTWAoQ_K1N",
        "outputId": "c0cdd084-0668-4070-a88c-dc83e01c11e5"
      },
      "outputs": [
        {
          "data": {
            "text/plain": [
              "array([1, 2, 3, 4, 5])"
            ]
          },
          "execution_count": 192,
          "metadata": {},
          "output_type": "execute_result"
        }
      ],
      "source": [
        ""
      ]
    },
    {
      "cell_type": "code",
      "execution_count": null,
      "metadata": {
        "id": "H6i9nba7_K1N"
      },
      "outputs": [],
      "source": [
        "# iki boyutlu array siralama"
      ]
    },
    {
      "cell_type": "code",
      "execution_count": 147,
      "metadata": {
        "id": "YkO3ybSo_K1O"
      },
      "outputs": [],
      "source": [
        "m = np.random.normal(20,5, (3,3))"
      ]
    },
    {
      "cell_type": "code",
      "execution_count": 148,
      "metadata": {
        "colab": {
          "base_uri": "https://localhost:8080/"
        },
        "id": "-uTrENc9_K1O",
        "outputId": "36ac9c28-aa87-432a-b965-67652b7fc952"
      },
      "outputs": [
        {
          "output_type": "execute_result",
          "data": {
            "text/plain": [
              "array([[23.15520008, 19.01961404, 17.1661385 ],\n",
              "       [13.66425196, 16.01878953, 19.69330724],\n",
              "       [ 8.22753604, 14.69615246, 18.59461024]])"
            ]
          },
          "metadata": {},
          "execution_count": 148
        }
      ],
      "source": [
        "m"
      ]
    },
    {
      "cell_type": "code",
      "execution_count": null,
      "metadata": {
        "id": "5RUeRaM3_K1O"
      },
      "outputs": [],
      "source": [
        "# code here (sort m)"
      ]
    },
    {
      "cell_type": "code",
      "source": [
        "np.sort(m, axis=1)"
      ],
      "metadata": {
        "colab": {
          "base_uri": "https://localhost:8080/"
        },
        "id": "W3DHq_UYkPvi",
        "outputId": "9cff9f66-0aff-4020-d7ca-a7eadfcb2ac1"
      },
      "execution_count": 150,
      "outputs": [
        {
          "output_type": "execute_result",
          "data": {
            "text/plain": [
              "array([[17.1661385 , 19.01961404, 23.15520008],\n",
              "       [13.66425196, 16.01878953, 19.69330724],\n",
              "       [ 8.22753604, 14.69615246, 18.59461024]])"
            ]
          },
          "metadata": {},
          "execution_count": 150
        }
      ]
    },
    {
      "cell_type": "code",
      "execution_count": null,
      "metadata": {
        "id": "f-7EBuYv_K1P",
        "outputId": "cc542ec7-b93d-429b-beb3-c281714ea42c"
      },
      "outputs": [
        {
          "data": {
            "text/plain": [
              "array([[11.4711052 , 20.00086064, 28.44452052],\n",
              "       [15.02090679, 16.0648143 , 23.22445351],\n",
              "       [ 9.34939833, 20.03722184, 22.39429448]])"
            ]
          },
          "execution_count": 70,
          "metadata": {},
          "output_type": "execute_result"
        }
      ],
      "source": [
        ""
      ]
    },
    {
      "cell_type": "code",
      "execution_count": null,
      "metadata": {
        "id": "belMD8dZ_K1P"
      },
      "outputs": [],
      "source": [
        "# code here (sort m)"
      ]
    },
    {
      "cell_type": "code",
      "source": [
        "np.sort(m, axis=0)"
      ],
      "metadata": {
        "colab": {
          "base_uri": "https://localhost:8080/"
        },
        "id": "o3skttP4klxC",
        "outputId": "02fbefb5-0c78-4da7-a4ab-b8878413f028"
      },
      "execution_count": 151,
      "outputs": [
        {
          "output_type": "execute_result",
          "data": {
            "text/plain": [
              "array([[ 8.22753604, 14.69615246, 17.1661385 ],\n",
              "       [13.66425196, 16.01878953, 18.59461024],\n",
              "       [23.15520008, 19.01961404, 19.69330724]])"
            ]
          },
          "metadata": {},
          "execution_count": 151
        }
      ]
    },
    {
      "cell_type": "code",
      "execution_count": null,
      "metadata": {
        "id": "jkStV8oo_K1Q",
        "outputId": "ad0ee634-d108-4fa2-83e4-957143327a52"
      },
      "outputs": [
        {
          "data": {
            "text/plain": [
              "array([[16.0648143 , 11.4711052 ,  9.34939833],\n",
              "       [20.00086064, 22.39429448, 15.02090679],\n",
              "       [20.03722184, 23.22445351, 28.44452052]])"
            ]
          },
          "execution_count": 72,
          "metadata": {},
          "output_type": "execute_result"
        }
      ],
      "source": [
        ""
      ]
    },
    {
      "cell_type": "markdown",
      "metadata": {
        "id": "8_tgFs7N_K1Q"
      },
      "source": [
        "# Index ile Elemanlara Erişmek"
      ]
    },
    {
      "cell_type": "code",
      "execution_count": 162,
      "metadata": {
        "colab": {
          "base_uri": "https://localhost:8080/"
        },
        "id": "vC9Lrr8T_K1Q",
        "outputId": "27522ff8-5e95-44ad-a4d0-fa364273d054"
      },
      "outputs": [
        {
          "output_type": "execute_result",
          "data": {
            "text/plain": [
              "array([4, 9, 5, 5, 6, 4, 7, 6, 8, 0])"
            ]
          },
          "metadata": {},
          "execution_count": 162
        }
      ],
      "source": [
        "import numpy as np\n",
        "a = np.random.randint(10, size = 10)\n",
        "a"
      ]
    },
    {
      "cell_type": "code",
      "execution_count": null,
      "metadata": {
        "id": "sCXC8Z3c_K1R"
      },
      "outputs": [],
      "source": [
        "# code here"
      ]
    },
    {
      "cell_type": "code",
      "source": [
        "a[0] #ilk elemana eriş"
      ],
      "metadata": {
        "colab": {
          "base_uri": "https://localhost:8080/"
        },
        "id": "tEV6p2Lclb19",
        "outputId": "3c305014-d42b-4095-e119-d94187e84f3a"
      },
      "execution_count": 163,
      "outputs": [
        {
          "output_type": "execute_result",
          "data": {
            "text/plain": [
              "4"
            ]
          },
          "metadata": {},
          "execution_count": 163
        }
      ]
    },
    {
      "cell_type": "code",
      "execution_count": null,
      "metadata": {
        "id": "9IWcZ2UM_K1S",
        "outputId": "7e5de9cd-4227-4c32-9f5e-0211ad4a5e7f"
      },
      "outputs": [
        {
          "data": {
            "text/plain": [
              "3"
            ]
          },
          "execution_count": 74,
          "metadata": {},
          "output_type": "execute_result"
        }
      ],
      "source": [
        ""
      ]
    },
    {
      "cell_type": "code",
      "execution_count": 164,
      "metadata": {
        "id": "igBnqzot_K1S"
      },
      "outputs": [],
      "source": [
        "# code here"
      ]
    },
    {
      "cell_type": "code",
      "source": [
        "a[-1] #son elemana eriş"
      ],
      "metadata": {
        "colab": {
          "base_uri": "https://localhost:8080/"
        },
        "id": "MNlny70LlkSM",
        "outputId": "a3067d00-1351-49f6-f930-eca25d4d34a9"
      },
      "execution_count": 165,
      "outputs": [
        {
          "output_type": "execute_result",
          "data": {
            "text/plain": [
              "0"
            ]
          },
          "metadata": {},
          "execution_count": 165
        }
      ]
    },
    {
      "cell_type": "code",
      "execution_count": null,
      "metadata": {
        "id": "s66PhB7h_K1S",
        "outputId": "c20f7e75-7727-4482-ac43-1228053e57ef"
      },
      "outputs": [
        {
          "data": {
            "text/plain": [
              "6"
            ]
          },
          "execution_count": 75,
          "metadata": {},
          "output_type": "execute_result"
        }
      ],
      "source": [
        ""
      ]
    },
    {
      "cell_type": "code",
      "execution_count": 166,
      "metadata": {
        "id": "-Q20QjVT_K1T"
      },
      "outputs": [],
      "source": [
        "a[2], a[5], a[9] = [4, 0, 100]"
      ]
    },
    {
      "cell_type": "code",
      "execution_count": null,
      "metadata": {
        "id": "uGJagixK_K1T"
      },
      "outputs": [],
      "source": [
        "# code here"
      ]
    },
    {
      "cell_type": "code",
      "source": [
        "a[2]"
      ],
      "metadata": {
        "colab": {
          "base_uri": "https://localhost:8080/"
        },
        "id": "tI3uwYNHlsz-",
        "outputId": "c9a6f634-8b68-4082-cb6a-2d8f5fa15284"
      },
      "execution_count": 167,
      "outputs": [
        {
          "output_type": "execute_result",
          "data": {
            "text/plain": [
              "4"
            ]
          },
          "metadata": {},
          "execution_count": 167
        }
      ]
    },
    {
      "cell_type": "code",
      "execution_count": null,
      "metadata": {
        "id": "NndkoBuS_K1T",
        "outputId": "d8d3605a-25a1-48b5-8459-a5ab02739f31"
      },
      "outputs": [
        {
          "data": {
            "text/plain": [
              "4"
            ]
          },
          "execution_count": 78,
          "metadata": {},
          "output_type": "execute_result"
        }
      ],
      "source": [
        ""
      ]
    },
    {
      "cell_type": "code",
      "execution_count": null,
      "metadata": {
        "id": "mYuS0-zI_K1U"
      },
      "outputs": [],
      "source": [
        "# code here"
      ]
    },
    {
      "cell_type": "code",
      "source": [
        "a[5]"
      ],
      "metadata": {
        "colab": {
          "base_uri": "https://localhost:8080/"
        },
        "id": "tyPVYdH9lwRN",
        "outputId": "2beaa364-9a70-455e-f146-90f299622db2"
      },
      "execution_count": 168,
      "outputs": [
        {
          "output_type": "execute_result",
          "data": {
            "text/plain": [
              "0"
            ]
          },
          "metadata": {},
          "execution_count": 168
        }
      ]
    },
    {
      "cell_type": "code",
      "execution_count": null,
      "metadata": {
        "id": "TC_BahXB_K1U",
        "outputId": "837f79e1-b158-4d5b-89af-e0f68f5dd4e5"
      },
      "outputs": [
        {
          "data": {
            "text/plain": [
              "0"
            ]
          },
          "execution_count": 79,
          "metadata": {},
          "output_type": "execute_result"
        }
      ],
      "source": [
        ""
      ]
    },
    {
      "cell_type": "code",
      "execution_count": null,
      "metadata": {
        "id": "V-BpHtSM_K1U"
      },
      "outputs": [],
      "source": [
        "# code here"
      ]
    },
    {
      "cell_type": "code",
      "source": [
        "a[9]"
      ],
      "metadata": {
        "colab": {
          "base_uri": "https://localhost:8080/"
        },
        "id": "i4RYq59llyQ4",
        "outputId": "982b68c0-71e3-4dce-d7ea-f170c7751c26"
      },
      "execution_count": 169,
      "outputs": [
        {
          "output_type": "execute_result",
          "data": {
            "text/plain": [
              "100"
            ]
          },
          "metadata": {},
          "execution_count": 169
        }
      ]
    },
    {
      "cell_type": "code",
      "execution_count": null,
      "metadata": {
        "id": "7my-CXJu_K1V",
        "outputId": "438dccde-ef5b-4f3a-c746-40cf9640a10b"
      },
      "outputs": [
        {
          "data": {
            "text/plain": [
              "100"
            ]
          },
          "execution_count": 80,
          "metadata": {},
          "output_type": "execute_result"
        }
      ],
      "source": [
        ""
      ]
    },
    {
      "cell_type": "code",
      "execution_count": 170,
      "metadata": {
        "colab": {
          "base_uri": "https://localhost:8080/"
        },
        "id": "H6SpI1aS_K1V",
        "outputId": "eb6acf6f-b200-49bb-dd8b-7dace1f7ad76"
      },
      "outputs": [
        {
          "output_type": "execute_result",
          "data": {
            "text/plain": [
              "array([[3, 9, 4, 3, 6],\n",
              "       [5, 6, 7, 4, 0],\n",
              "       [2, 6, 3, 2, 8]])"
            ]
          },
          "metadata": {},
          "execution_count": 170
        }
      ],
      "source": [
        "m = np.random.randint(10, size = (3,5))\n",
        "m"
      ]
    },
    {
      "cell_type": "code",
      "execution_count": null,
      "metadata": {
        "id": "evSRPPm__K1V"
      },
      "outputs": [],
      "source": [
        "# code here"
      ]
    },
    {
      "cell_type": "code",
      "source": [
        "m[0,0]"
      ],
      "metadata": {
        "colab": {
          "base_uri": "https://localhost:8080/"
        },
        "id": "q4GuVzJhmTAN",
        "outputId": "dc2484ca-aea9-4a98-fbe8-859ee376f5a6"
      },
      "execution_count": 172,
      "outputs": [
        {
          "output_type": "execute_result",
          "data": {
            "text/plain": [
              "3"
            ]
          },
          "metadata": {},
          "execution_count": 172
        }
      ]
    },
    {
      "cell_type": "code",
      "execution_count": null,
      "metadata": {
        "id": "SasCCelr_K1W",
        "outputId": "fbc43ae7-1f12-4012-cb3d-e34a79b94742"
      },
      "outputs": [
        {
          "data": {
            "text/plain": [
              "8"
            ]
          },
          "execution_count": 82,
          "metadata": {},
          "output_type": "execute_result"
        }
      ],
      "source": [
        ""
      ]
    },
    {
      "cell_type": "code",
      "execution_count": null,
      "metadata": {
        "id": "oDuCFOKg_K1W"
      },
      "outputs": [],
      "source": [
        "# code here"
      ]
    },
    {
      "cell_type": "code",
      "source": [
        "m[0,4]"
      ],
      "metadata": {
        "colab": {
          "base_uri": "https://localhost:8080/"
        },
        "id": "a8jKzlSHmaeZ",
        "outputId": "5270cfa8-3d71-44bb-9f7d-9bd915697e6b"
      },
      "execution_count": 173,
      "outputs": [
        {
          "output_type": "execute_result",
          "data": {
            "text/plain": [
              "6"
            ]
          },
          "metadata": {},
          "execution_count": 173
        }
      ]
    },
    {
      "cell_type": "code",
      "execution_count": null,
      "metadata": {
        "id": "m54GafqI_K1W",
        "outputId": "bf07bad6-5dbd-4aa8-edb0-e6e00de0f7bf"
      },
      "outputs": [
        {
          "data": {
            "text/plain": [
              "6"
            ]
          },
          "execution_count": 83,
          "metadata": {},
          "output_type": "execute_result"
        }
      ],
      "source": [
        ""
      ]
    },
    {
      "cell_type": "code",
      "execution_count": null,
      "metadata": {
        "id": "9YJtWES9_K1X"
      },
      "outputs": [],
      "source": [
        "# code here"
      ]
    },
    {
      "cell_type": "code",
      "execution_count": 174,
      "metadata": {
        "colab": {
          "base_uri": "https://localhost:8080/"
        },
        "id": "vIklqRBm_K1X",
        "outputId": "a33981f6-46a8-4032-be53-cc9720cd28df"
      },
      "outputs": [
        {
          "output_type": "execute_result",
          "data": {
            "text/plain": [
              "0"
            ]
          },
          "metadata": {},
          "execution_count": 174
        }
      ],
      "source": [
        "m[1, 4]"
      ]
    },
    {
      "cell_type": "code",
      "execution_count": null,
      "metadata": {
        "id": "dZECgNBv_K1Z"
      },
      "outputs": [],
      "source": [
        "# code here (look at the below array)"
      ]
    },
    {
      "cell_type": "code",
      "source": [
        "m[1, 4] = 99"
      ],
      "metadata": {
        "id": "65rXNJVymyna"
      },
      "execution_count": 176,
      "outputs": []
    },
    {
      "cell_type": "code",
      "execution_count": 177,
      "metadata": {
        "colab": {
          "base_uri": "https://localhost:8080/"
        },
        "id": "Wz3jvigY_K1a",
        "outputId": "59b9ef78-cff9-4888-98d6-e4b7d4e4584f"
      },
      "outputs": [
        {
          "output_type": "execute_result",
          "data": {
            "text/plain": [
              "array([[ 3,  9,  4,  3,  6],\n",
              "       [ 5,  6,  7,  4, 99],\n",
              "       [ 2,  6,  3,  2,  8]])"
            ]
          },
          "metadata": {},
          "execution_count": 177
        }
      ],
      "source": [
        "m"
      ]
    },
    {
      "cell_type": "code",
      "execution_count": null,
      "metadata": {
        "id": "Xzpvi8Rv_K1a"
      },
      "outputs": [],
      "source": [
        "# code here"
      ]
    },
    {
      "cell_type": "code",
      "execution_count": 178,
      "metadata": {
        "colab": {
          "base_uri": "https://localhost:8080/"
        },
        "id": "NwnquXwY_K1b",
        "outputId": "0d22fbb1-fd5e-4257-f77d-5777ed550855"
      },
      "outputs": [
        {
          "output_type": "execute_result",
          "data": {
            "text/plain": [
              "2"
            ]
          },
          "metadata": {},
          "execution_count": 178
        }
      ],
      "source": [
        "m[2, 3]"
      ]
    },
    {
      "cell_type": "code",
      "execution_count": null,
      "metadata": {
        "id": "sbgsNVWl_K1c"
      },
      "outputs": [],
      "source": [
        "# code here (look at the below array)"
      ]
    },
    {
      "cell_type": "code",
      "source": [
        "m[2, 3] = 111\n",
        "m"
      ],
      "metadata": {
        "colab": {
          "base_uri": "https://localhost:8080/"
        },
        "id": "yMQYgE89m9gS",
        "outputId": "120717d0-8085-4ca0-9ae0-72b9ff686443"
      },
      "execution_count": 179,
      "outputs": [
        {
          "output_type": "execute_result",
          "data": {
            "text/plain": [
              "array([[  3,   9,   4,   3,   6],\n",
              "       [  5,   6,   7,   4,  99],\n",
              "       [  2,   6,   3, 111,   8]])"
            ]
          },
          "metadata": {},
          "execution_count": 179
        }
      ]
    },
    {
      "cell_type": "code",
      "execution_count": null,
      "metadata": {
        "id": "GoPYyQSo_K1c",
        "outputId": "a9b94316-ee8e-4a5c-feb6-2ad6dde4b815"
      },
      "outputs": [
        {
          "data": {
            "text/plain": [
              "array([[  8,   4,   2,   4,   6],\n",
              "       [  5,   6,   4,   2,  99],\n",
              "       [  8,   0,   0, 111,   6]])"
            ]
          },
          "execution_count": 89,
          "metadata": {},
          "output_type": "execute_result"
        }
      ],
      "source": [
        "m"
      ]
    },
    {
      "cell_type": "markdown",
      "metadata": {
        "id": "xOR0yrWG_K1d"
      },
      "source": [
        "# Slicing ile Elemanlara Erişmek (Array Alt Kümesine Erişmek)"
      ]
    },
    {
      "cell_type": "code",
      "execution_count": 190,
      "metadata": {
        "id": "heNUDqsh_K1e"
      },
      "outputs": [],
      "source": [
        "import numpy as np"
      ]
    },
    {
      "cell_type": "code",
      "execution_count": 191,
      "metadata": {
        "colab": {
          "base_uri": "https://localhost:8080/"
        },
        "id": "wbI4AfSi_K1f",
        "outputId": "5b937561-8ef4-4db6-e72f-676a0309c629"
      },
      "outputs": [
        {
          "output_type": "execute_result",
          "data": {
            "text/plain": [
              "array([20, 21, 22, 23, 24, 25, 26, 27, 28, 29])"
            ]
          },
          "metadata": {},
          "execution_count": 191
        }
      ],
      "source": [
        "a = np.arange(20,30)\n",
        "a"
      ]
    },
    {
      "cell_type": "code",
      "execution_count": null,
      "metadata": {
        "id": "N5n8t9Yy_K1g"
      },
      "outputs": [],
      "source": [
        "# code here"
      ]
    },
    {
      "cell_type": "code",
      "source": [
        "a[0:3]"
      ],
      "metadata": {
        "colab": {
          "base_uri": "https://localhost:8080/"
        },
        "id": "sFBnDJvepP4-",
        "outputId": "9cd8228f-b13f-4304-d4fc-37eda22b6606"
      },
      "execution_count": 192,
      "outputs": [
        {
          "output_type": "execute_result",
          "data": {
            "text/plain": [
              "array([20, 21, 22])"
            ]
          },
          "metadata": {},
          "execution_count": 192
        }
      ]
    },
    {
      "cell_type": "code",
      "execution_count": null,
      "metadata": {
        "id": "RNIGERJF_K1g",
        "outputId": "ccfdbb3a-ef3c-420e-bec0-26431ce0b168"
      },
      "outputs": [
        {
          "data": {
            "text/plain": [
              "array([20, 21, 22])"
            ]
          },
          "execution_count": 217,
          "metadata": {},
          "output_type": "execute_result"
        }
      ],
      "source": [
        ""
      ]
    },
    {
      "cell_type": "code",
      "execution_count": null,
      "metadata": {
        "id": "AD09emxn_K1h"
      },
      "outputs": [],
      "source": [
        "# code here"
      ]
    },
    {
      "cell_type": "code",
      "execution_count": null,
      "metadata": {
        "id": "RjTtLG5t_K1i",
        "outputId": "76f39da0-e53f-4621-c335-d2b76bd7c5f7"
      },
      "outputs": [
        {
          "data": {
            "text/plain": [
              "array([20, 21, 22])"
            ]
          },
          "execution_count": 218,
          "metadata": {},
          "output_type": "execute_result"
        }
      ],
      "source": [
        ""
      ]
    },
    {
      "cell_type": "code",
      "execution_count": null,
      "metadata": {
        "id": "T7MEE54b_K1i"
      },
      "outputs": [],
      "source": [
        "# code here"
      ]
    },
    {
      "cell_type": "code",
      "source": [
        "a[3:]"
      ],
      "metadata": {
        "colab": {
          "base_uri": "https://localhost:8080/"
        },
        "id": "ri5AxHqFpubw",
        "outputId": "64fafee8-5d3d-454e-f26c-ec8a0147c4a9"
      },
      "execution_count": 197,
      "outputs": [
        {
          "output_type": "execute_result",
          "data": {
            "text/plain": [
              "array([23, 24, 25, 26, 27, 28, 29])"
            ]
          },
          "metadata": {},
          "execution_count": 197
        }
      ]
    },
    {
      "cell_type": "code",
      "execution_count": null,
      "metadata": {
        "id": "74gl9ceK_K1j",
        "outputId": "a2a36dc3-0ac7-4832-8b2f-2444a0fd51d0"
      },
      "outputs": [
        {
          "data": {
            "text/plain": [
              "array([23, 24, 25, 26, 27, 28, 29])"
            ]
          },
          "execution_count": 219,
          "metadata": {},
          "output_type": "execute_result"
        }
      ],
      "source": [
        ""
      ]
    },
    {
      "cell_type": "code",
      "execution_count": null,
      "metadata": {
        "id": "s1M6cEaf_K1j"
      },
      "outputs": [],
      "source": [
        "# code here"
      ]
    },
    {
      "cell_type": "code",
      "source": [
        "a[1::2]"
      ],
      "metadata": {
        "colab": {
          "base_uri": "https://localhost:8080/"
        },
        "id": "vsDaPHH2pzQ_",
        "outputId": "247e476e-9c11-45b8-fc80-80c039369810"
      },
      "execution_count": 198,
      "outputs": [
        {
          "output_type": "execute_result",
          "data": {
            "text/plain": [
              "array([21, 23, 25, 27, 29])"
            ]
          },
          "metadata": {},
          "execution_count": 198
        }
      ]
    },
    {
      "cell_type": "code",
      "execution_count": null,
      "metadata": {
        "id": "2j-O5Ftf_K1k",
        "outputId": "62881fc0-2d79-481b-dfa3-4be45cfad003"
      },
      "outputs": [
        {
          "data": {
            "text/plain": [
              "array([21, 23, 25, 27, 29])"
            ]
          },
          "execution_count": 220,
          "metadata": {},
          "output_type": "execute_result"
        }
      ],
      "source": [
        ""
      ]
    },
    {
      "cell_type": "code",
      "execution_count": null,
      "metadata": {
        "id": "9WcEgRK7_K1l"
      },
      "outputs": [],
      "source": [
        "# code here"
      ]
    },
    {
      "cell_type": "code",
      "source": [
        "a[0::2]"
      ],
      "metadata": {
        "colab": {
          "base_uri": "https://localhost:8080/"
        },
        "id": "eQLIGwnXp4Sj",
        "outputId": "3bbfad1b-90f9-450e-b431-8efae68f98e2"
      },
      "execution_count": 199,
      "outputs": [
        {
          "output_type": "execute_result",
          "data": {
            "text/plain": [
              "array([20, 22, 24, 26, 28])"
            ]
          },
          "metadata": {},
          "execution_count": 199
        }
      ]
    },
    {
      "cell_type": "code",
      "execution_count": null,
      "metadata": {
        "id": "8Kug9qTQ_K1l",
        "outputId": "6c692130-9e77-48b5-cb77-e4c8a08a21fa"
      },
      "outputs": [
        {
          "data": {
            "text/plain": [
              "array([20, 22, 24, 26, 28])"
            ]
          },
          "execution_count": 221,
          "metadata": {},
          "output_type": "execute_result"
        }
      ],
      "source": [
        ""
      ]
    },
    {
      "cell_type": "code",
      "execution_count": null,
      "metadata": {
        "id": "55NnxSiG_K1m"
      },
      "outputs": [],
      "source": [
        "# code here"
      ]
    },
    {
      "cell_type": "code",
      "source": [
        "a[2::2]"
      ],
      "metadata": {
        "colab": {
          "base_uri": "https://localhost:8080/"
        },
        "id": "ACp6hxCJp75T",
        "outputId": "1f3ee990-4506-4f03-9db3-80e3f84776cd"
      },
      "execution_count": 200,
      "outputs": [
        {
          "output_type": "execute_result",
          "data": {
            "text/plain": [
              "array([22, 24, 26, 28])"
            ]
          },
          "metadata": {},
          "execution_count": 200
        }
      ]
    },
    {
      "cell_type": "code",
      "execution_count": null,
      "metadata": {
        "id": "dymRJ1RH_K1n",
        "outputId": "7959d745-bae2-455f-c6cb-c84aa9d1db34"
      },
      "outputs": [
        {
          "data": {
            "text/plain": [
              "array([22, 24, 26, 28])"
            ]
          },
          "execution_count": 222,
          "metadata": {},
          "output_type": "execute_result"
        }
      ],
      "source": [
        ""
      ]
    },
    {
      "cell_type": "code",
      "execution_count": null,
      "metadata": {
        "id": "pBTg_bQ4_K1n"
      },
      "outputs": [],
      "source": [
        "# code here"
      ]
    },
    {
      "cell_type": "code",
      "source": [
        "a[0::3]"
      ],
      "metadata": {
        "colab": {
          "base_uri": "https://localhost:8080/"
        },
        "id": "4QQrLVLAqA7P",
        "outputId": "0817e264-f273-40be-e24d-6d70007e5afb"
      },
      "execution_count": 201,
      "outputs": [
        {
          "output_type": "execute_result",
          "data": {
            "text/plain": [
              "array([20, 23, 26, 29])"
            ]
          },
          "metadata": {},
          "execution_count": 201
        }
      ]
    },
    {
      "cell_type": "code",
      "execution_count": null,
      "metadata": {
        "id": "MV7NBx9Q_K1o",
        "outputId": "443f7f24-3c42-46f6-e57c-35668ce7720f"
      },
      "outputs": [
        {
          "data": {
            "text/plain": [
              "array([20, 23, 26, 29])"
            ]
          },
          "execution_count": 223,
          "metadata": {},
          "output_type": "execute_result"
        }
      ],
      "source": [
        ""
      ]
    },
    {
      "cell_type": "code",
      "execution_count": null,
      "metadata": {
        "id": "39-VybnB_K1o"
      },
      "outputs": [],
      "source": [
        "#iki boyutlu slice islemleri"
      ]
    },
    {
      "cell_type": "code",
      "execution_count": 204,
      "metadata": {
        "colab": {
          "base_uri": "https://localhost:8080/"
        },
        "id": "0zLYpAlM_K1q",
        "outputId": "2b8f0774-e6ef-4a0e-83b4-d93d1dd56ba6"
      },
      "outputs": [
        {
          "output_type": "execute_result",
          "data": {
            "text/plain": [
              "array([[8, 0, 8, 6, 5],\n",
              "       [0, 1, 7, 9, 4],\n",
              "       [8, 9, 8, 6, 5],\n",
              "       [1, 5, 1, 6, 3],\n",
              "       [1, 0, 1, 7, 6]])"
            ]
          },
          "metadata": {},
          "execution_count": 204
        }
      ],
      "source": [
        "m = np.random.randint(10, size = (5,5))\n",
        "m"
      ]
    },
    {
      "cell_type": "code",
      "execution_count": null,
      "metadata": {
        "id": "mb8O51V3_K1r",
        "outputId": "6e8a73ac-bf8b-4f39-fa50-90678548d886"
      },
      "outputs": [
        {
          "data": {
            "text/plain": [
              "array([[2, 1, 8, 3, 8],\n",
              "       [4, 3, 2, 3, 5],\n",
              "       [5, 9, 3, 1, 3],\n",
              "       [3, 1, 6, 9, 4],\n",
              "       [6, 0, 9, 9, 0]])"
            ]
          },
          "execution_count": 96,
          "metadata": {},
          "output_type": "execute_result"
        }
      ],
      "source": [
        "m"
      ]
    },
    {
      "cell_type": "code",
      "execution_count": null,
      "metadata": {
        "id": "M1LAw1A-_K1r"
      },
      "outputs": [],
      "source": [
        "# code here"
      ]
    },
    {
      "cell_type": "code",
      "source": [
        "m[:,0]"
      ],
      "metadata": {
        "colab": {
          "base_uri": "https://localhost:8080/"
        },
        "id": "KJGd5hFlqLnh",
        "outputId": "12d4a0b2-be51-49af-bd4f-8615c8212cdc"
      },
      "execution_count": 205,
      "outputs": [
        {
          "output_type": "execute_result",
          "data": {
            "text/plain": [
              "array([8, 0, 8, 1, 1])"
            ]
          },
          "metadata": {},
          "execution_count": 205
        }
      ]
    },
    {
      "cell_type": "code",
      "execution_count": null,
      "metadata": {
        "id": "rvd-ikxs_K1s",
        "outputId": "25d88cbd-dff0-4c25-88a6-323a46ee0cea"
      },
      "outputs": [
        {
          "data": {
            "text/plain": [
              "array([2, 4, 5, 3, 6])"
            ]
          },
          "execution_count": 97,
          "metadata": {},
          "output_type": "execute_result"
        }
      ],
      "source": [
        ""
      ]
    },
    {
      "cell_type": "code",
      "execution_count": null,
      "metadata": {
        "id": "Dt9KJ9p-_K1s"
      },
      "outputs": [],
      "source": [
        "# code here"
      ]
    },
    {
      "cell_type": "code",
      "source": [
        "m[:,1]"
      ],
      "metadata": {
        "colab": {
          "base_uri": "https://localhost:8080/"
        },
        "id": "38WNva2ZqSNG",
        "outputId": "feb82046-2ac5-43bb-f122-2f8e4f3789b6"
      },
      "execution_count": 206,
      "outputs": [
        {
          "output_type": "execute_result",
          "data": {
            "text/plain": [
              "array([0, 1, 9, 5, 0])"
            ]
          },
          "metadata": {},
          "execution_count": 206
        }
      ]
    },
    {
      "cell_type": "code",
      "execution_count": null,
      "metadata": {
        "id": "A3GHOjXL_K1s",
        "outputId": "c4db4f14-8f0a-438e-96f1-f183d62564db"
      },
      "outputs": [
        {
          "data": {
            "text/plain": [
              "array([1, 3, 9, 1, 0])"
            ]
          },
          "execution_count": 98,
          "metadata": {},
          "output_type": "execute_result"
        }
      ],
      "source": [
        ""
      ]
    },
    {
      "cell_type": "code",
      "execution_count": null,
      "metadata": {
        "id": "uw6vYWkS_K1t"
      },
      "outputs": [],
      "source": [
        "# code here"
      ]
    },
    {
      "cell_type": "code",
      "source": [
        "m[:,4]"
      ],
      "metadata": {
        "colab": {
          "base_uri": "https://localhost:8080/"
        },
        "id": "Hr9vX9zWqZYh",
        "outputId": "0e5cdb89-26cf-4e8d-c7a8-348abe7e1245"
      },
      "execution_count": 207,
      "outputs": [
        {
          "output_type": "execute_result",
          "data": {
            "text/plain": [
              "array([5, 4, 5, 3, 6])"
            ]
          },
          "metadata": {},
          "execution_count": 207
        }
      ]
    },
    {
      "cell_type": "code",
      "execution_count": null,
      "metadata": {
        "id": "Ck378x_y_K1t",
        "outputId": "f5e835c7-a3ac-4ed8-863f-6f3ea70849d9"
      },
      "outputs": [
        {
          "data": {
            "text/plain": [
              "array([8, 5, 3, 4, 0])"
            ]
          },
          "execution_count": 99,
          "metadata": {},
          "output_type": "execute_result"
        }
      ],
      "source": [
        ""
      ]
    },
    {
      "cell_type": "code",
      "execution_count": null,
      "metadata": {
        "id": "k90iULcH_K1t",
        "outputId": "bfdea776-0808-40d5-ba50-ac385017a57f"
      },
      "outputs": [
        {
          "data": {
            "text/plain": [
              "array([[2, 1, 8, 3, 8],\n",
              "       [4, 3, 2, 3, 5],\n",
              "       [5, 9, 3, 1, 3],\n",
              "       [3, 1, 6, 9, 4],\n",
              "       [6, 0, 9, 9, 0]])"
            ]
          },
          "execution_count": 100,
          "metadata": {},
          "output_type": "execute_result"
        }
      ],
      "source": [
        "m"
      ]
    },
    {
      "cell_type": "code",
      "execution_count": null,
      "metadata": {
        "id": "R_-Idzn2_K1u"
      },
      "outputs": [],
      "source": [
        "# code here"
      ]
    },
    {
      "cell_type": "code",
      "source": [
        "m"
      ],
      "metadata": {
        "colab": {
          "base_uri": "https://localhost:8080/"
        },
        "id": "sKGkhYBrqkie",
        "outputId": "e554f636-7136-4cb8-c266-a9052f373eda"
      },
      "execution_count": 208,
      "outputs": [
        {
          "output_type": "execute_result",
          "data": {
            "text/plain": [
              "array([[8, 0, 8, 6, 5],\n",
              "       [0, 1, 7, 9, 4],\n",
              "       [8, 9, 8, 6, 5],\n",
              "       [1, 5, 1, 6, 3],\n",
              "       [1, 0, 1, 7, 6]])"
            ]
          },
          "metadata": {},
          "execution_count": 208
        }
      ]
    },
    {
      "cell_type": "code",
      "execution_count": null,
      "metadata": {
        "id": "X8rg_OHO_K1v"
      },
      "outputs": [],
      "source": [
        "# code here"
      ]
    },
    {
      "cell_type": "code",
      "source": [
        "m[0,:]"
      ],
      "metadata": {
        "colab": {
          "base_uri": "https://localhost:8080/"
        },
        "id": "AEFqbpljqmyJ",
        "outputId": "ff8e9618-8cf7-4154-e286-18fad5b30a39"
      },
      "execution_count": 209,
      "outputs": [
        {
          "output_type": "execute_result",
          "data": {
            "text/plain": [
              "array([8, 0, 8, 6, 5])"
            ]
          },
          "metadata": {},
          "execution_count": 209
        }
      ]
    },
    {
      "cell_type": "code",
      "execution_count": null,
      "metadata": {
        "id": "LCLelsj-_K1v",
        "outputId": "4e93d4c6-3fb9-4fe6-918f-be5ec1c5e216"
      },
      "outputs": [
        {
          "data": {
            "text/plain": [
              "array([2, 1, 8, 3, 8])"
            ]
          },
          "execution_count": 101,
          "metadata": {},
          "output_type": "execute_result"
        }
      ],
      "source": [
        ""
      ]
    },
    {
      "cell_type": "code",
      "execution_count": null,
      "metadata": {
        "id": "E_GEl1EI_K1w"
      },
      "outputs": [],
      "source": [
        "# code here"
      ]
    },
    {
      "cell_type": "code",
      "source": [
        "m[1,:]"
      ],
      "metadata": {
        "colab": {
          "base_uri": "https://localhost:8080/"
        },
        "id": "EzWeKu_Rq_2y",
        "outputId": "d918e27a-3cb0-4678-9e7a-84b75be99424"
      },
      "execution_count": 210,
      "outputs": [
        {
          "output_type": "execute_result",
          "data": {
            "text/plain": [
              "array([0, 1, 7, 9, 4])"
            ]
          },
          "metadata": {},
          "execution_count": 210
        }
      ]
    },
    {
      "cell_type": "code",
      "execution_count": null,
      "metadata": {
        "id": "WphmVj8M_K1x",
        "outputId": "611f08ef-d6be-47ac-abe5-3584905edff8"
      },
      "outputs": [
        {
          "data": {
            "text/plain": [
              "array([4, 3, 2, 3, 5])"
            ]
          },
          "execution_count": 104,
          "metadata": {},
          "output_type": "execute_result"
        }
      ],
      "source": [
        ""
      ]
    },
    {
      "cell_type": "code",
      "execution_count": null,
      "metadata": {
        "id": "mTa93ptB_K1x"
      },
      "outputs": [],
      "source": [
        "# code here"
      ]
    },
    {
      "cell_type": "code",
      "source": [
        "m[0:2,0:3]"
      ],
      "metadata": {
        "colab": {
          "base_uri": "https://localhost:8080/"
        },
        "id": "_Go01Uz0rICs",
        "outputId": "3f09c422-c6c3-4bde-c8a6-3ae9c70a9213"
      },
      "execution_count": 211,
      "outputs": [
        {
          "output_type": "execute_result",
          "data": {
            "text/plain": [
              "array([[8, 0, 8],\n",
              "       [0, 1, 7]])"
            ]
          },
          "metadata": {},
          "execution_count": 211
        }
      ]
    },
    {
      "cell_type": "code",
      "execution_count": null,
      "metadata": {
        "id": "nBL9ZRo5_K1y",
        "outputId": "b799e3da-0c53-4769-d427-48f5f935eace"
      },
      "outputs": [
        {
          "data": {
            "text/plain": [
              "array([[2, 1, 8],\n",
              "       [4, 3, 2]])"
            ]
          },
          "execution_count": 105,
          "metadata": {},
          "output_type": "execute_result"
        }
      ],
      "source": [
        ""
      ]
    },
    {
      "cell_type": "code",
      "execution_count": null,
      "metadata": {
        "id": "9cYTPtXK_K1y"
      },
      "outputs": [],
      "source": [
        "# code here"
      ]
    },
    {
      "cell_type": "code",
      "source": [
        "m[:,0:2]"
      ],
      "metadata": {
        "colab": {
          "base_uri": "https://localhost:8080/"
        },
        "id": "Oapg8jQdrO9e",
        "outputId": "5e961707-2e3d-43a0-a971-f7779f090085"
      },
      "execution_count": 212,
      "outputs": [
        {
          "output_type": "execute_result",
          "data": {
            "text/plain": [
              "array([[8, 0],\n",
              "       [0, 1],\n",
              "       [8, 9],\n",
              "       [1, 5],\n",
              "       [1, 0]])"
            ]
          },
          "metadata": {},
          "execution_count": 212
        }
      ]
    },
    {
      "cell_type": "code",
      "execution_count": null,
      "metadata": {
        "id": "AviiNP0w_K1z",
        "outputId": "b9c61f1d-12b4-46b4-aa9a-8e37275f0ba8"
      },
      "outputs": [
        {
          "data": {
            "text/plain": [
              "array([[2, 1],\n",
              "       [4, 3],\n",
              "       [5, 9],\n",
              "       [3, 1],\n",
              "       [6, 0]])"
            ]
          },
          "execution_count": 106,
          "metadata": {},
          "output_type": "execute_result"
        }
      ],
      "source": [
        ""
      ]
    },
    {
      "cell_type": "code",
      "execution_count": null,
      "metadata": {
        "id": "qWQi-nZz_K1z",
        "outputId": "840d1be8-f756-4e1f-cb6a-dc0cf3bcb4b6"
      },
      "outputs": [
        {
          "data": {
            "text/plain": [
              "array([[2, 1, 8, 3, 8],\n",
              "       [4, 3, 2, 3, 5],\n",
              "       [5, 9, 3, 1, 3],\n",
              "       [3, 1, 6, 9, 4],\n",
              "       [6, 0, 9, 9, 0]])"
            ]
          },
          "execution_count": 107,
          "metadata": {},
          "output_type": "execute_result"
        }
      ],
      "source": [
        "m"
      ]
    },
    {
      "cell_type": "code",
      "execution_count": null,
      "metadata": {
        "id": "CfWNuukF_K10"
      },
      "outputs": [],
      "source": [
        "# code here"
      ]
    },
    {
      "cell_type": "code",
      "source": [
        "m[1:3,0:2]"
      ],
      "metadata": {
        "colab": {
          "base_uri": "https://localhost:8080/"
        },
        "id": "UFSrI3YZrWpw",
        "outputId": "70cbf11e-b5e5-4d52-c918-3b3355438d26"
      },
      "execution_count": 213,
      "outputs": [
        {
          "output_type": "execute_result",
          "data": {
            "text/plain": [
              "array([[0, 1],\n",
              "       [8, 9]])"
            ]
          },
          "metadata": {},
          "execution_count": 213
        }
      ]
    },
    {
      "cell_type": "code",
      "execution_count": null,
      "metadata": {
        "id": "O2aZYnuu_K10",
        "outputId": "5c2deb94-0754-45b4-997f-c8dd3801d33c"
      },
      "outputs": [
        {
          "data": {
            "text/plain": [
              "array([[4, 3],\n",
              "       [5, 9]])"
            ]
          },
          "execution_count": 108,
          "metadata": {},
          "output_type": "execute_result"
        }
      ],
      "source": [
        ""
      ]
    },
    {
      "cell_type": "markdown",
      "metadata": {
        "id": "6Qfdi0zf_K11"
      },
      "source": [
        "# Alt Küme Üzerinde İşlem Yapmak"
      ]
    },
    {
      "cell_type": "code",
      "execution_count": 214,
      "metadata": {
        "colab": {
          "base_uri": "https://localhost:8080/"
        },
        "id": "aExku5-i_K11",
        "outputId": "f7c437da-4610-46c9-9a16-d6d413e564e5"
      },
      "outputs": [
        {
          "output_type": "execute_result",
          "data": {
            "text/plain": [
              "array([[6, 7, 4, 4, 1],\n",
              "       [1, 5, 7, 3, 4],\n",
              "       [4, 7, 8, 4, 7],\n",
              "       [5, 2, 1, 7, 4],\n",
              "       [4, 3, 5, 2, 1]])"
            ]
          },
          "metadata": {},
          "execution_count": 214
        }
      ],
      "source": [
        "import numpy as np\n",
        "a = np.random.randint(10, size = (5, 5))\n",
        "a"
      ]
    },
    {
      "cell_type": "code",
      "execution_count": null,
      "metadata": {
        "id": "sQcQ55RQ_K12"
      },
      "outputs": [],
      "source": [
        "# code here"
      ]
    },
    {
      "cell_type": "code",
      "source": [
        "a[0:3,0:2]"
      ],
      "metadata": {
        "colab": {
          "base_uri": "https://localhost:8080/"
        },
        "id": "8b62xNEouLVA",
        "outputId": "b1fa7b7f-e405-4584-a57c-80c9ed2f610f"
      },
      "execution_count": 218,
      "outputs": [
        {
          "output_type": "execute_result",
          "data": {
            "text/plain": [
              "array([[6, 7],\n",
              "       [1, 5],\n",
              "       [4, 7]])"
            ]
          },
          "metadata": {},
          "execution_count": 218
        }
      ]
    },
    {
      "cell_type": "code",
      "execution_count": null,
      "metadata": {
        "id": "VOVzWIhl_K12",
        "outputId": "16f2a363-a693-4077-b0f0-105a5f56bed7"
      },
      "outputs": [
        {
          "data": {
            "text/plain": [
              "array([[3, 5],\n",
              "       [8, 5],\n",
              "       [9, 0]])"
            ]
          },
          "execution_count": 111,
          "metadata": {},
          "output_type": "execute_result"
        }
      ],
      "source": [
        ""
      ]
    },
    {
      "cell_type": "code",
      "execution_count": null,
      "metadata": {
        "id": "6E-riAS2_K13"
      },
      "outputs": [],
      "source": [
        "# code here"
      ]
    },
    {
      "cell_type": "code",
      "source": [
        "a[0:3,0:2][[0,1],[0,1]] = [99999, 8888]\n",
        "a[0:3,0:2]"
      ],
      "metadata": {
        "colab": {
          "base_uri": "https://localhost:8080/"
        },
        "id": "o6yFrVeLuxBe",
        "outputId": "0e9ab62d-0556-4c59-fcee-39629e7102c3"
      },
      "execution_count": 222,
      "outputs": [
        {
          "output_type": "execute_result",
          "data": {
            "text/plain": [
              "array([[99999,     7],\n",
              "       [    1,  8888],\n",
              "       [    4,     7]])"
            ]
          },
          "metadata": {},
          "execution_count": 222
        }
      ]
    },
    {
      "cell_type": "code",
      "execution_count": null,
      "metadata": {
        "id": "7Rg-XVP3_K13",
        "outputId": "4442e851-60e3-492c-b6da-46c8ae63ca1a"
      },
      "outputs": [
        {
          "data": {
            "text/plain": [
              "array([[99999,     5],\n",
              "       [    8,   888],\n",
              "       [    9,     0]])"
            ]
          },
          "execution_count": 113,
          "metadata": {},
          "output_type": "execute_result"
        }
      ],
      "source": [
        ""
      ]
    },
    {
      "cell_type": "code",
      "source": [
        "a"
      ],
      "metadata": {
        "colab": {
          "base_uri": "https://localhost:8080/"
        },
        "id": "HDgIm6LzvoK9",
        "outputId": "39362788-f3c2-42a1-9705-379b2b8fb883"
      },
      "execution_count": 223,
      "outputs": [
        {
          "output_type": "execute_result",
          "data": {
            "text/plain": [
              "array([[99999,     7,     4,     4,     1],\n",
              "       [    1,  8888,     7,     3,     4],\n",
              "       [    4,     7,     8,     4,     7],\n",
              "       [    5,     2,     1,     7,     4],\n",
              "       [    4,     3,     5,     2,     1]])"
            ]
          },
          "metadata": {},
          "execution_count": 223
        }
      ]
    },
    {
      "cell_type": "code",
      "execution_count": null,
      "metadata": {
        "id": "Az4XPnqK_K14",
        "outputId": "1d90cf48-f014-482f-99f9-f63e96dfa31d"
      },
      "outputs": [
        {
          "data": {
            "text/plain": [
              "array([[99999,     5,     0,     7,     2],\n",
              "       [    8,   888,     4,     6,     1],\n",
              "       [    9,     0,     5,     9,     5],\n",
              "       [    7,     6,     6,     6,     3],\n",
              "       [    4,     3,     8,     7,     6]])"
            ]
          },
          "execution_count": 114,
          "metadata": {},
          "output_type": "execute_result"
        }
      ],
      "source": [
        "a"
      ]
    },
    {
      "cell_type": "code",
      "execution_count": null,
      "metadata": {
        "id": "2vg7OmsD_K15",
        "outputId": "81dfd788-6aad-4cb1-eda2-0d99baa21102"
      },
      "outputs": [
        {
          "data": {
            "text/plain": [
              "array([[8, 1, 4, 0, 2],\n",
              "       [4, 0, 3, 0, 6],\n",
              "       [4, 1, 4, 0, 3],\n",
              "       [1, 8, 0, 8, 9],\n",
              "       [6, 0, 1, 2, 4]])"
            ]
          },
          "execution_count": 3,
          "metadata": {},
          "output_type": "execute_result"
        }
      ],
      "source": [
        "m = np.random.randint(10, size = (5, 5))\n",
        "m"
      ]
    },
    {
      "cell_type": "code",
      "source": [
        "m = np.random.randint(10, size = (5, 5))\n",
        "m"
      ],
      "metadata": {
        "colab": {
          "base_uri": "https://localhost:8080/"
        },
        "id": "jjHK1P4pvrya",
        "outputId": "af361017-edd4-4565-eb5c-0029350c2181"
      },
      "execution_count": 224,
      "outputs": [
        {
          "output_type": "execute_result",
          "data": {
            "text/plain": [
              "array([[7, 4, 4, 2, 7],\n",
              "       [0, 0, 3, 8, 5],\n",
              "       [1, 3, 9, 6, 6],\n",
              "       [7, 6, 2, 4, 0],\n",
              "       [5, 6, 3, 3, 7]])"
            ]
          },
          "metadata": {},
          "execution_count": 224
        }
      ]
    },
    {
      "cell_type": "code",
      "execution_count": null,
      "metadata": {
        "id": "nwU-9zUC_K16"
      },
      "outputs": [],
      "source": [
        "# code here"
      ]
    },
    {
      "cell_type": "code",
      "source": [
        "#YAPAMADIM"
      ],
      "metadata": {
        "id": "GgsEZsVzxjVH"
      },
      "execution_count": null,
      "outputs": []
    },
    {
      "cell_type": "code",
      "execution_count": null,
      "metadata": {
        "id": "OAQc1riq_K17",
        "outputId": "5ab08478-35d9-47b7-9ea3-c2b36c3a27c0"
      },
      "outputs": [
        {
          "data": {
            "text/plain": [
              "array([[7, 0],\n",
              "       [7, 5],\n",
              "       [7, 4]])"
            ]
          },
          "execution_count": 116,
          "metadata": {},
          "output_type": "execute_result"
        }
      ],
      "source": [
        ""
      ]
    },
    {
      "cell_type": "code",
      "execution_count": null,
      "metadata": {
        "id": "mUQOoUzF_K17"
      },
      "outputs": [],
      "source": [
        "# code here"
      ]
    },
    {
      "cell_type": "code",
      "execution_count": null,
      "metadata": {
        "id": "QeHMt5bE_K17",
        "outputId": "51ce2439-8e83-44a1-bd9a-e65c8f7bc6a7"
      },
      "outputs": [
        {
          "data": {
            "text/plain": [
              "array([[9999,    0],\n",
              "       [   9,    3],\n",
              "       [   5,    1]])"
            ]
          },
          "execution_count": 246,
          "metadata": {},
          "output_type": "execute_result"
        }
      ],
      "source": [
        ""
      ]
    },
    {
      "cell_type": "code",
      "execution_count": null,
      "metadata": {
        "id": "QrYLdj_r_K18",
        "outputId": "7e81d35d-9634-4e08-a8db-38f5e3e2479d"
      },
      "outputs": [
        {
          "data": {
            "text/plain": [
              "array([[9, 0, 0, 8, 9],\n",
              "       [9, 3, 4, 1, 9],\n",
              "       [5, 1, 2, 1, 5],\n",
              "       [8, 2, 3, 8, 0],\n",
              "       [5, 7, 6, 3, 8]])"
            ]
          },
          "execution_count": 247,
          "metadata": {},
          "output_type": "execute_result"
        }
      ],
      "source": [
        "m"
      ]
    },
    {
      "cell_type": "markdown",
      "metadata": {
        "id": "DTyXQ3-F_K18"
      },
      "source": [
        "# Fancy Index ile Elemanlara Erişmek"
      ]
    },
    {
      "cell_type": "code",
      "execution_count": 1,
      "metadata": {
        "colab": {
          "base_uri": "https://localhost:8080/"
        },
        "id": "Ob5G_-I1_K19",
        "outputId": "37d985d0-1f04-48aa-b1ce-62e77fb60c9b"
      },
      "outputs": [
        {
          "output_type": "execute_result",
          "data": {
            "text/plain": [
              "array([ 0,  3,  6,  9, 12, 15, 18, 21, 24, 27])"
            ]
          },
          "metadata": {},
          "execution_count": 1
        }
      ],
      "source": [
        "import numpy as np\n",
        "v = np.arange(0, 30, 3)\n",
        "v"
      ]
    },
    {
      "cell_type": "code",
      "execution_count": null,
      "metadata": {
        "id": "NTvhgDnx_K19"
      },
      "outputs": [],
      "source": [
        "# code here"
      ]
    },
    {
      "cell_type": "code",
      "source": [
        "ind=1\n",
        "v[ind]"
      ],
      "metadata": {
        "colab": {
          "base_uri": "https://localhost:8080/"
        },
        "id": "2YW827RdDNOq",
        "outputId": "5bbbc03d-21e9-4f89-c1e7-b1c03ab368a3"
      },
      "execution_count": 4,
      "outputs": [
        {
          "output_type": "execute_result",
          "data": {
            "text/plain": [
              "3"
            ]
          },
          "metadata": {},
          "execution_count": 4
        }
      ]
    },
    {
      "cell_type": "code",
      "execution_count": null,
      "metadata": {
        "id": "hGsuUfey_K19",
        "outputId": "15efe9ce-4809-45a0-e55d-68f8e266e7d2"
      },
      "outputs": [
        {
          "data": {
            "text/plain": [
              "3"
            ]
          },
          "execution_count": 249,
          "metadata": {},
          "output_type": "execute_result"
        }
      ],
      "source": [
        ""
      ]
    },
    {
      "cell_type": "code",
      "execution_count": null,
      "metadata": {
        "id": "ppC-l4jt_K1-"
      },
      "outputs": [],
      "source": [
        "# code here"
      ]
    },
    {
      "cell_type": "code",
      "source": [
        "\n",
        "ind=3\n",
        "v[ind]"
      ],
      "metadata": {
        "colab": {
          "base_uri": "https://localhost:8080/"
        },
        "id": "c8NoUo05DRAD",
        "outputId": "307c0d5f-97a3-4b6a-e8ab-f2bf0182fbc2"
      },
      "execution_count": 5,
      "outputs": [
        {
          "output_type": "execute_result",
          "data": {
            "text/plain": [
              "9"
            ]
          },
          "metadata": {},
          "execution_count": 5
        }
      ]
    },
    {
      "cell_type": "code",
      "execution_count": null,
      "metadata": {
        "id": "zFEGZcJY_K1-",
        "outputId": "1301a3e6-ff66-4b23-a581-29039303bb5b"
      },
      "outputs": [
        {
          "data": {
            "text/plain": [
              "9"
            ]
          },
          "execution_count": 250,
          "metadata": {},
          "output_type": "execute_result"
        }
      ],
      "source": [
        ""
      ]
    },
    {
      "cell_type": "code",
      "execution_count": null,
      "metadata": {
        "id": "1FxV2hog_K1-"
      },
      "outputs": [],
      "source": [
        "# code here"
      ]
    },
    {
      "cell_type": "code",
      "source": [
        "v_1 =v.tolist()\n",
        "v_1"
      ],
      "metadata": {
        "colab": {
          "base_uri": "https://localhost:8080/"
        },
        "id": "nn1KSuq2E88W",
        "outputId": "dfa8a085-37b6-4b31-a34a-876e2512a498"
      },
      "execution_count": 14,
      "outputs": [
        {
          "output_type": "execute_result",
          "data": {
            "text/plain": [
              "[0, 3, 6, 9, 12, 15, 18, 21, 24, 27]"
            ]
          },
          "metadata": {},
          "execution_count": 14
        }
      ]
    },
    {
      "cell_type": "code",
      "source": [
        "v[v_1.index(15)]"
      ],
      "metadata": {
        "colab": {
          "base_uri": "https://localhost:8080/"
        },
        "id": "XtADOOGmFg5O",
        "outputId": "028660dc-75ee-461b-c6ef-e6a5d23dd343"
      },
      "execution_count": 16,
      "outputs": [
        {
          "output_type": "execute_result",
          "data": {
            "text/plain": [
              "15"
            ]
          },
          "metadata": {},
          "execution_count": 16
        }
      ]
    },
    {
      "cell_type": "code",
      "execution_count": null,
      "metadata": {
        "id": "7hRgX2O6_K1_",
        "outputId": "9a4669f3-ab6e-4320-e32d-6b1778136c19"
      },
      "outputs": [
        {
          "data": {
            "text/plain": [
              "15"
            ]
          },
          "execution_count": 251,
          "metadata": {},
          "output_type": "execute_result"
        }
      ],
      "source": [
        ""
      ]
    },
    {
      "cell_type": "code",
      "execution_count": null,
      "metadata": {
        "id": "5GaXqO_O_K1_"
      },
      "outputs": [],
      "source": [
        "# code here"
      ]
    },
    {
      "cell_type": "code",
      "source": [
        "v_1[1:6:2]"
      ],
      "metadata": {
        "colab": {
          "base_uri": "https://localhost:8080/"
        },
        "id": "SMP22TVJFtgO",
        "outputId": "55c945f3-ba9e-40ed-f9ff-b0a22d87f83d"
      },
      "execution_count": 28,
      "outputs": [
        {
          "output_type": "execute_result",
          "data": {
            "text/plain": [
              "[3, 9, 15]"
            ]
          },
          "metadata": {},
          "execution_count": 28
        }
      ]
    },
    {
      "cell_type": "code",
      "execution_count": null,
      "metadata": {
        "id": "u2zk0X1f_K1_",
        "outputId": "e3712fd5-cfd5-4902-e202-edc138d78b9c"
      },
      "outputs": [
        {
          "data": {
            "text/plain": [
              "[3, 9, 15]"
            ]
          },
          "execution_count": 252,
          "metadata": {},
          "output_type": "execute_result"
        }
      ],
      "source": [
        ""
      ]
    },
    {
      "cell_type": "code",
      "execution_count": 30,
      "metadata": {
        "id": "PAy8e_CV_K2A"
      },
      "outputs": [],
      "source": [
        "al_getir = [1,3,5]"
      ]
    },
    {
      "cell_type": "code",
      "execution_count": 31,
      "metadata": {
        "colab": {
          "base_uri": "https://localhost:8080/"
        },
        "id": "9MPJoQJS_K2A",
        "outputId": "e88c3afc-0381-4d3e-95f0-cfb52364924a"
      },
      "outputs": [
        {
          "output_type": "execute_result",
          "data": {
            "text/plain": [
              "array([ 0,  3,  6,  9, 12, 15, 18, 21, 24, 27])"
            ]
          },
          "metadata": {},
          "execution_count": 31
        }
      ],
      "source": [
        "v"
      ]
    },
    {
      "cell_type": "code",
      "execution_count": null,
      "metadata": {
        "id": "JgeP_72K_K2A"
      },
      "outputs": [],
      "source": [
        "# code here"
      ]
    },
    {
      "cell_type": "code",
      "source": [
        "v[1:6:2]"
      ],
      "metadata": {
        "colab": {
          "base_uri": "https://localhost:8080/"
        },
        "id": "_UlZcdkPG1s-",
        "outputId": "843dba52-5636-4ae4-d1cc-b04b5344a899"
      },
      "execution_count": 32,
      "outputs": [
        {
          "output_type": "execute_result",
          "data": {
            "text/plain": [
              "array([ 3,  9, 15])"
            ]
          },
          "metadata": {},
          "execution_count": 32
        }
      ]
    },
    {
      "cell_type": "code",
      "execution_count": null,
      "metadata": {
        "id": "vfk83p5L_K2B",
        "outputId": "0debedbf-b64c-449c-b95b-92581e9e1b65"
      },
      "outputs": [
        {
          "data": {
            "text/plain": [
              "array([ 3,  9, 15])"
            ]
          },
          "execution_count": 255,
          "metadata": {},
          "output_type": "execute_result"
        }
      ],
      "source": [
        ""
      ]
    },
    {
      "cell_type": "code",
      "execution_count": null,
      "metadata": {
        "id": "EP5fDruH_K2B"
      },
      "outputs": [],
      "source": [
        "#iki boyutta fancy"
      ]
    },
    {
      "cell_type": "code",
      "execution_count": 37,
      "metadata": {
        "id": "BYdJ02sK_K2B"
      },
      "outputs": [],
      "source": [
        "m = np.arange(9).reshape((3,3))"
      ]
    },
    {
      "cell_type": "code",
      "execution_count": 38,
      "metadata": {
        "colab": {
          "base_uri": "https://localhost:8080/"
        },
        "id": "zJOyJkDg_K2B",
        "outputId": "00ddaf86-1531-4362-c656-c2d84c6eb126"
      },
      "outputs": [
        {
          "output_type": "execute_result",
          "data": {
            "text/plain": [
              "array([[0, 1, 2],\n",
              "       [3, 4, 5],\n",
              "       [6, 7, 8]])"
            ]
          },
          "metadata": {},
          "execution_count": 38
        }
      ],
      "source": [
        "m"
      ]
    },
    {
      "cell_type": "code",
      "execution_count": 39,
      "metadata": {
        "id": "VjaxA6LB_K2C"
      },
      "outputs": [],
      "source": [
        "satir = np.array([0,1])\n",
        "sutun = np.array([1,2])"
      ]
    },
    {
      "cell_type": "code",
      "execution_count": 40,
      "metadata": {
        "colab": {
          "base_uri": "https://localhost:8080/"
        },
        "id": "CX0zo8Es_K2C",
        "outputId": "1e04ba1d-a83d-4176-aa76-b6de9cc7a57c"
      },
      "outputs": [
        {
          "output_type": "execute_result",
          "data": {
            "text/plain": [
              "array([1, 5])"
            ]
          },
          "metadata": {},
          "execution_count": 40
        }
      ],
      "source": [
        "m[satir, sutun]"
      ]
    },
    {
      "cell_type": "code",
      "execution_count": null,
      "metadata": {
        "id": "j8srmEAs_K2D"
      },
      "outputs": [],
      "source": [
        "#basit index ile fancy index"
      ]
    },
    {
      "cell_type": "code",
      "execution_count": 41,
      "metadata": {
        "colab": {
          "base_uri": "https://localhost:8080/"
        },
        "id": "201hr0n9_K2D",
        "outputId": "5307493d-6c72-484f-ead2-916e77f024bc"
      },
      "outputs": [
        {
          "output_type": "execute_result",
          "data": {
            "text/plain": [
              "array([[0, 1, 2],\n",
              "       [3, 4, 5],\n",
              "       [6, 7, 8]])"
            ]
          },
          "metadata": {},
          "execution_count": 41
        }
      ],
      "source": [
        "m"
      ]
    },
    {
      "cell_type": "code",
      "execution_count": 42,
      "metadata": {
        "colab": {
          "base_uri": "https://localhost:8080/"
        },
        "id": "XJwf5Nz2_K2D",
        "outputId": "04c7cd4f-1a51-4ff8-e588-0aed0b310a30"
      },
      "outputs": [
        {
          "output_type": "execute_result",
          "data": {
            "text/plain": [
              "array([1, 2])"
            ]
          },
          "metadata": {},
          "execution_count": 42
        }
      ],
      "source": [
        "m[0, [1,2]]"
      ]
    },
    {
      "cell_type": "code",
      "execution_count": null,
      "metadata": {
        "id": "XnMEbvS8_K2E"
      },
      "outputs": [],
      "source": [
        "#slice ile fancy"
      ]
    },
    {
      "cell_type": "code",
      "execution_count": 43,
      "metadata": {
        "colab": {
          "base_uri": "https://localhost:8080/"
        },
        "id": "HKdfpqKc_K2E",
        "outputId": "a1c36804-a963-4ab3-fcea-5ff03d912e91"
      },
      "outputs": [
        {
          "output_type": "execute_result",
          "data": {
            "text/plain": [
              "array([[1, 2],\n",
              "       [4, 5],\n",
              "       [7, 8]])"
            ]
          },
          "metadata": {},
          "execution_count": 43
        }
      ],
      "source": [
        "m[0:, [1,2]]"
      ]
    },
    {
      "cell_type": "markdown",
      "metadata": {
        "id": "C1z1dLTl_K2F"
      },
      "source": [
        "# Koşullu Eleman İşlemleri"
      ]
    },
    {
      "cell_type": "code",
      "execution_count": 44,
      "metadata": {
        "id": "Tx4HZWFz_K2F"
      },
      "outputs": [],
      "source": [
        "import numpy as np\n",
        "v = np.array([1, 2, 3, 4, 5])"
      ]
    },
    {
      "cell_type": "code",
      "execution_count": 45,
      "metadata": {
        "colab": {
          "base_uri": "https://localhost:8080/"
        },
        "id": "01pXLe-R_K2F",
        "outputId": "d44b13d0-fdd3-40bb-918a-1da4d2965734"
      },
      "outputs": [
        {
          "output_type": "execute_result",
          "data": {
            "text/plain": [
              "array([ True,  True, False, False, False])"
            ]
          },
          "metadata": {},
          "execution_count": 45
        }
      ],
      "source": [
        "v < 3"
      ]
    },
    {
      "cell_type": "code",
      "execution_count": 46,
      "metadata": {
        "colab": {
          "base_uri": "https://localhost:8080/"
        },
        "id": "Jt2KNAfQ_K2G",
        "outputId": "1fbbe46c-c313-45cf-bf97-936c52f354f9"
      },
      "outputs": [
        {
          "output_type": "execute_result",
          "data": {
            "text/plain": [
              "array([1, 2])"
            ]
          },
          "metadata": {},
          "execution_count": 46
        }
      ],
      "source": [
        "v[v < 3]"
      ]
    },
    {
      "cell_type": "code",
      "execution_count": null,
      "metadata": {
        "id": "YoWjDwQS_K2G"
      },
      "outputs": [],
      "source": [
        "# code here"
      ]
    },
    {
      "cell_type": "code",
      "execution_count": null,
      "metadata": {
        "id": "98h9Gcxi_K2G"
      },
      "outputs": [],
      "source": [
        ""
      ]
    },
    {
      "cell_type": "code",
      "execution_count": 47,
      "metadata": {
        "colab": {
          "base_uri": "https://localhost:8080/"
        },
        "id": "dYS9jNxm_K2H",
        "outputId": "c464049c-816d-4989-ca69-0446aa6f0869"
      },
      "outputs": [
        {
          "output_type": "execute_result",
          "data": {
            "text/plain": [
              "array([4, 5])"
            ]
          },
          "metadata": {},
          "execution_count": 47
        }
      ],
      "source": [
        "v[v > 3]"
      ]
    },
    {
      "cell_type": "code",
      "execution_count": 49,
      "metadata": {
        "colab": {
          "base_uri": "https://localhost:8080/"
        },
        "id": "IBB9IegS_K2H",
        "outputId": "c8c1274e-43be-41dc-cc92-a94fe523d525"
      },
      "outputs": [
        {
          "output_type": "execute_result",
          "data": {
            "text/plain": [
              "array([3, 4, 5])"
            ]
          },
          "metadata": {},
          "execution_count": 49
        }
      ],
      "source": [
        "# code here\n",
        "v[v>2]"
      ]
    },
    {
      "cell_type": "code",
      "execution_count": null,
      "metadata": {
        "id": "RmJ_IgJB_K2I",
        "outputId": "dc138077-e701-4651-8b59-cfcfe7fd8dfa"
      },
      "outputs": [
        {
          "data": {
            "text/plain": [
              "array([3, 4, 5])"
            ]
          },
          "execution_count": 270,
          "metadata": {},
          "output_type": "execute_result"
        }
      ],
      "source": [
        ""
      ]
    },
    {
      "cell_type": "code",
      "execution_count": 51,
      "metadata": {
        "colab": {
          "base_uri": "https://localhost:8080/"
        },
        "id": "UsBLnc8H_K2I",
        "outputId": "56dcbbe0-2a40-4894-cc6f-92c5103e2472"
      },
      "outputs": [
        {
          "output_type": "execute_result",
          "data": {
            "text/plain": [
              "array([1, 2, 3])"
            ]
          },
          "metadata": {},
          "execution_count": 51
        }
      ],
      "source": [
        "# code here\n",
        "v[v<4]"
      ]
    },
    {
      "cell_type": "code",
      "execution_count": null,
      "metadata": {
        "id": "q5YNxHUk_K2J",
        "outputId": "da441a78-439a-4179-bd5a-79d53fbc4981"
      },
      "outputs": [
        {
          "data": {
            "text/plain": [
              "array([1, 2, 3])"
            ]
          },
          "execution_count": 271,
          "metadata": {},
          "output_type": "execute_result"
        }
      ],
      "source": [
        ""
      ]
    },
    {
      "cell_type": "code",
      "execution_count": 53,
      "metadata": {
        "colab": {
          "base_uri": "https://localhost:8080/"
        },
        "id": "lzzYH5sa_K2J",
        "outputId": "272f7d4e-4e61-47db-8c5b-fab238d64539"
      },
      "outputs": [
        {
          "output_type": "execute_result",
          "data": {
            "text/plain": [
              "array([3])"
            ]
          },
          "metadata": {},
          "execution_count": 53
        }
      ],
      "source": [
        "# code here\n",
        "v[v==3]"
      ]
    },
    {
      "cell_type": "code",
      "execution_count": null,
      "metadata": {
        "id": "TlFzJSz__K2K",
        "outputId": "af71173a-64fd-499f-d02c-22739177d21b"
      },
      "outputs": [
        {
          "data": {
            "text/plain": [
              "array([3])"
            ]
          },
          "execution_count": 272,
          "metadata": {},
          "output_type": "execute_result"
        }
      ],
      "source": [
        ""
      ]
    },
    {
      "cell_type": "code",
      "execution_count": 55,
      "metadata": {
        "colab": {
          "base_uri": "https://localhost:8080/"
        },
        "id": "QeR2MJL1_K2L",
        "outputId": "8bf396f5-6d68-4f1d-c3f4-d83ecc0c89e9"
      },
      "outputs": [
        {
          "output_type": "execute_result",
          "data": {
            "text/plain": [
              "array([1, 2, 4, 5])"
            ]
          },
          "metadata": {},
          "execution_count": 55
        }
      ],
      "source": [
        "# code here\n",
        "v[v!=3]"
      ]
    },
    {
      "cell_type": "code",
      "execution_count": null,
      "metadata": {
        "id": "TjnqEr6v_K2L",
        "outputId": "59110309-b9c5-4cf8-cd55-9b3b86e67485"
      },
      "outputs": [
        {
          "data": {
            "text/plain": [
              "array([1, 2, 4, 5])"
            ]
          },
          "execution_count": 273,
          "metadata": {},
          "output_type": "execute_result"
        }
      ],
      "source": [
        ""
      ]
    },
    {
      "cell_type": "code",
      "execution_count": 56,
      "metadata": {
        "colab": {
          "base_uri": "https://localhost:8080/"
        },
        "id": "Z-AkzCal_K2M",
        "outputId": "2eeb5a21-4f66-468d-a7c6-dd252e4a32a1"
      },
      "outputs": [
        {
          "output_type": "execute_result",
          "data": {
            "text/plain": [
              "array([1, 2, 3, 4, 5])"
            ]
          },
          "metadata": {},
          "execution_count": 56
        }
      ],
      "source": [
        "v"
      ]
    },
    {
      "cell_type": "code",
      "execution_count": 58,
      "metadata": {
        "colab": {
          "base_uri": "https://localhost:8080/"
        },
        "id": "UTOaM5g0_K2N",
        "outputId": "90eebaef-cbcc-41c9-bcf7-a6d840a331f9"
      },
      "outputs": [
        {
          "output_type": "execute_result",
          "data": {
            "text/plain": [
              "array([ 2,  4,  6,  8, 10])"
            ]
          },
          "metadata": {},
          "execution_count": 58
        }
      ],
      "source": [
        "# code here\n",
        "v*2"
      ]
    },
    {
      "cell_type": "code",
      "execution_count": null,
      "metadata": {
        "id": "bEyOkShJ_K2N",
        "outputId": "8425a547-332a-4c97-bbd1-529834bc69c1"
      },
      "outputs": [
        {
          "data": {
            "text/plain": [
              "array([ 2,  4,  6,  8, 10])"
            ]
          },
          "execution_count": 275,
          "metadata": {},
          "output_type": "execute_result"
        }
      ],
      "source": [
        ""
      ]
    },
    {
      "cell_type": "code",
      "execution_count": 60,
      "metadata": {
        "colab": {
          "base_uri": "https://localhost:8080/"
        },
        "id": "Az47mlRn_K2O",
        "outputId": "c9ae841c-d0e0-495d-d147-9004c952b3e4"
      },
      "outputs": [
        {
          "output_type": "execute_result",
          "data": {
            "text/plain": [
              "array([0.2, 0.4, 0.6, 0.8, 1. ])"
            ]
          },
          "metadata": {},
          "execution_count": 60
        }
      ],
      "source": [
        "# code here\n",
        "v*2/10"
      ]
    },
    {
      "cell_type": "code",
      "execution_count": null,
      "metadata": {
        "id": "eSru7qA3_K2P",
        "outputId": "db4ddfc6-ebec-4142-8aa1-c4264dfd2b0e"
      },
      "outputs": [
        {
          "data": {
            "text/plain": [
              "array([0.2, 0.4, 0.6, 0.8, 1. ])"
            ]
          },
          "execution_count": 276,
          "metadata": {},
          "output_type": "execute_result"
        }
      ],
      "source": [
        ""
      ]
    },
    {
      "cell_type": "code",
      "execution_count": 62,
      "metadata": {
        "colab": {
          "base_uri": "https://localhost:8080/"
        },
        "id": "DOdmqFn6_K2P",
        "outputId": "c0f715cd-5f27-46c5-f06f-a663975a7fdf"
      },
      "outputs": [
        {
          "output_type": "execute_result",
          "data": {
            "text/plain": [
              "array([ 1,  4,  9, 16, 25])"
            ]
          },
          "metadata": {},
          "execution_count": 62
        }
      ],
      "source": [
        "# code here\n",
        "v**2"
      ]
    },
    {
      "cell_type": "code",
      "execution_count": null,
      "metadata": {
        "id": "LiAPVSi-_K2Q",
        "outputId": "0f054e24-5aab-478c-8dfd-6f26c1736199"
      },
      "outputs": [
        {
          "data": {
            "text/plain": [
              "array([ 1,  4,  9, 16, 25], dtype=int32)"
            ]
          },
          "execution_count": 278,
          "metadata": {},
          "output_type": "execute_result"
        }
      ],
      "source": [
        ""
      ]
    },
    {
      "cell_type": "markdown",
      "metadata": {
        "id": "eCWGLlVx_K2R"
      },
      "source": [
        "# Matematiksel İşlemler\n",
        "\n",
        "Bu bölüm bilgi ve tekrar maksatlı konulmuştur."
      ]
    },
    {
      "cell_type": "code",
      "execution_count": 90,
      "metadata": {
        "id": "Td3Zcabb_K2R"
      },
      "outputs": [],
      "source": [
        "import numpy as np\n",
        "v = np.array([1, 2, 3, 4, 5])"
      ]
    },
    {
      "cell_type": "code",
      "execution_count": 91,
      "metadata": {
        "colab": {
          "base_uri": "https://localhost:8080/"
        },
        "id": "gmBHbJ4R_K2S",
        "outputId": "a7fe70b3-0fa8-4b7d-b265-39aa8eb82581"
      },
      "outputs": [
        {
          "output_type": "execute_result",
          "data": {
            "text/plain": [
              "array([0, 1, 2, 3, 4])"
            ]
          },
          "metadata": {},
          "execution_count": 91
        }
      ],
      "source": [
        "v - 1"
      ]
    },
    {
      "cell_type": "code",
      "execution_count": 92,
      "metadata": {
        "colab": {
          "base_uri": "https://localhost:8080/"
        },
        "id": "gYiA7Fl1_K2S",
        "outputId": "3db2a569-9a98-4c24-bd7f-87672bfd9cc6"
      },
      "outputs": [
        {
          "output_type": "execute_result",
          "data": {
            "text/plain": [
              "array([ 5, 10, 15, 20, 25])"
            ]
          },
          "metadata": {},
          "execution_count": 92
        }
      ],
      "source": [
        "v * 5"
      ]
    },
    {
      "cell_type": "code",
      "execution_count": 93,
      "metadata": {
        "colab": {
          "base_uri": "https://localhost:8080/"
        },
        "id": "2bkKowJX_K2T",
        "outputId": "3aace062-34b1-410b-d2ae-ee12646d4634"
      },
      "outputs": [
        {
          "output_type": "execute_result",
          "data": {
            "text/plain": [
              "array([0.2, 0.4, 0.6, 0.8, 1. ])"
            ]
          },
          "metadata": {},
          "execution_count": 93
        }
      ],
      "source": [
        "v / 5"
      ]
    },
    {
      "cell_type": "code",
      "execution_count": null,
      "metadata": {
        "id": "qqSjNDZG_K2U"
      },
      "outputs": [],
      "source": [
        "#ufunc"
      ]
    },
    {
      "cell_type": "code",
      "execution_count": 94,
      "metadata": {
        "colab": {
          "base_uri": "https://localhost:8080/"
        },
        "id": "eKX4MOyp_K2U",
        "outputId": "7b10d9b2-5151-4110-dd19-0c73cfa18029"
      },
      "outputs": [
        {
          "output_type": "execute_result",
          "data": {
            "text/plain": [
              "array([0, 1, 2, 3, 4])"
            ]
          },
          "metadata": {},
          "execution_count": 94
        }
      ],
      "source": [
        "np.subtract(v, 1)"
      ]
    },
    {
      "cell_type": "code",
      "execution_count": 95,
      "metadata": {
        "colab": {
          "base_uri": "https://localhost:8080/"
        },
        "id": "g_XneFpX_K2V",
        "outputId": "3f65df51-56b6-4c30-d38b-67453c23d9f7"
      },
      "outputs": [
        {
          "output_type": "execute_result",
          "data": {
            "text/plain": [
              "array([2, 3, 4, 5, 6])"
            ]
          },
          "metadata": {},
          "execution_count": 95
        }
      ],
      "source": [
        "np.add(v, 1)"
      ]
    },
    {
      "cell_type": "code",
      "execution_count": 96,
      "metadata": {
        "colab": {
          "base_uri": "https://localhost:8080/"
        },
        "id": "pjycddgH_K2V",
        "outputId": "b2dfd349-d55f-4a48-e56d-315f587ff829"
      },
      "outputs": [
        {
          "output_type": "execute_result",
          "data": {
            "text/plain": [
              "array([ 4,  8, 12, 16, 20])"
            ]
          },
          "metadata": {},
          "execution_count": 96
        }
      ],
      "source": [
        "np.multiply(v,4)"
      ]
    },
    {
      "cell_type": "code",
      "execution_count": 97,
      "metadata": {
        "colab": {
          "base_uri": "https://localhost:8080/"
        },
        "id": "zKz02F-d_K2W",
        "outputId": "b78a28b3-c572-4549-f917-15bac4391c2a"
      },
      "outputs": [
        {
          "output_type": "execute_result",
          "data": {
            "text/plain": [
              "array([0.33333333, 0.66666667, 1.        , 1.33333333, 1.66666667])"
            ]
          },
          "metadata": {},
          "execution_count": 97
        }
      ],
      "source": [
        "np.divide(v, 3)"
      ]
    },
    {
      "cell_type": "code",
      "execution_count": 98,
      "metadata": {
        "colab": {
          "base_uri": "https://localhost:8080/"
        },
        "id": "sziPMJFp_K2X",
        "outputId": "0cf64b7c-1afd-4d1b-f008-ef6253a02acc"
      },
      "outputs": [
        {
          "output_type": "execute_result",
          "data": {
            "text/plain": [
              "array([ 1,  4,  9, 16, 25])"
            ]
          },
          "metadata": {},
          "execution_count": 98
        }
      ],
      "source": [
        "v**2"
      ]
    },
    {
      "cell_type": "code",
      "execution_count": 99,
      "metadata": {
        "colab": {
          "base_uri": "https://localhost:8080/"
        },
        "id": "w_Rmelo__K2X",
        "outputId": "a54ef8a7-88ab-4095-9208-6e37408b0116"
      },
      "outputs": [
        {
          "output_type": "execute_result",
          "data": {
            "text/plain": [
              "array([  1,   8,  27,  64, 125])"
            ]
          },
          "metadata": {},
          "execution_count": 99
        }
      ],
      "source": [
        "v**3"
      ]
    },
    {
      "cell_type": "code",
      "execution_count": 100,
      "metadata": {
        "colab": {
          "base_uri": "https://localhost:8080/"
        },
        "id": "D_6c4dlQ_K2Y",
        "outputId": "16a38225-53d7-4cd0-eb95-c6ac5e58d7e3"
      },
      "outputs": [
        {
          "output_type": "execute_result",
          "data": {
            "text/plain": [
              "array([  1,   8,  27,  64, 125])"
            ]
          },
          "metadata": {},
          "execution_count": 100
        }
      ],
      "source": [
        "np.power(v, 3)"
      ]
    },
    {
      "cell_type": "code",
      "execution_count": 101,
      "metadata": {
        "colab": {
          "base_uri": "https://localhost:8080/"
        },
        "id": "PS2dvBvp_K2Y",
        "outputId": "44e72797-2883-4a3c-a087-6bcc1511e0f9"
      },
      "outputs": [
        {
          "output_type": "execute_result",
          "data": {
            "text/plain": [
              "array([1, 0, 1, 0, 1])"
            ]
          },
          "metadata": {},
          "execution_count": 101
        }
      ],
      "source": [
        "v % 2"
      ]
    },
    {
      "cell_type": "code",
      "execution_count": 102,
      "metadata": {
        "colab": {
          "base_uri": "https://localhost:8080/"
        },
        "id": "3v06YMa8_K2Z",
        "outputId": "79648583-b105-43c8-e4cb-cdd2143ddf0a"
      },
      "outputs": [
        {
          "output_type": "execute_result",
          "data": {
            "text/plain": [
              "array([1, 0, 1, 0, 1])"
            ]
          },
          "metadata": {},
          "execution_count": 102
        }
      ],
      "source": [
        "np.mod(v, 2)"
      ]
    },
    {
      "cell_type": "code",
      "execution_count": 103,
      "metadata": {
        "colab": {
          "base_uri": "https://localhost:8080/"
        },
        "id": "Vb1L9Tz8_K2a",
        "outputId": "3ab6dc41-d24f-464e-facf-0c3eae6f183c"
      },
      "outputs": [
        {
          "output_type": "execute_result",
          "data": {
            "text/plain": [
              "array([3])"
            ]
          },
          "metadata": {},
          "execution_count": 103
        }
      ],
      "source": [
        "np.absolute(np.array([-3]))"
      ]
    },
    {
      "cell_type": "code",
      "execution_count": 104,
      "metadata": {
        "colab": {
          "base_uri": "https://localhost:8080/"
        },
        "id": "8vdCuPdp_K2b",
        "outputId": "496ca211-2357-46c4-deb2-5ff268657484"
      },
      "outputs": [
        {
          "output_type": "execute_result",
          "data": {
            "text/plain": [
              "0.9589157234143065"
            ]
          },
          "metadata": {},
          "execution_count": 104
        }
      ],
      "source": [
        "np.sin(360)"
      ]
    },
    {
      "cell_type": "code",
      "execution_count": 105,
      "metadata": {
        "colab": {
          "base_uri": "https://localhost:8080/"
        },
        "id": "JEROWjqv_K2d",
        "outputId": "c85ad4a3-962c-499c-e329-c28f1588eadd"
      },
      "outputs": [
        {
          "output_type": "execute_result",
          "data": {
            "text/plain": [
              "-0.5984600690578581"
            ]
          },
          "metadata": {},
          "execution_count": 105
        }
      ],
      "source": [
        "np.cos(180)"
      ]
    },
    {
      "cell_type": "code",
      "execution_count": 106,
      "metadata": {
        "id": "OR5llBaf_K2e"
      },
      "outputs": [],
      "source": [
        "v = np.array([1,2,3])"
      ]
    },
    {
      "cell_type": "code",
      "execution_count": 107,
      "metadata": {
        "colab": {
          "base_uri": "https://localhost:8080/"
        },
        "id": "bdwc6s-F_K2f",
        "outputId": "072baeba-54fa-48df-9543-595f6b9feb71"
      },
      "outputs": [
        {
          "output_type": "execute_result",
          "data": {
            "text/plain": [
              "array([0.        , 0.69314718, 1.09861229])"
            ]
          },
          "metadata": {},
          "execution_count": 107
        }
      ],
      "source": [
        "np.log(v)"
      ]
    },
    {
      "cell_type": "code",
      "execution_count": 108,
      "metadata": {
        "colab": {
          "base_uri": "https://localhost:8080/"
        },
        "id": "Wa9fQeJO_K2g",
        "outputId": "8a83c2c8-34a5-451c-86e0-ff516987a165"
      },
      "outputs": [
        {
          "output_type": "execute_result",
          "data": {
            "text/plain": [
              "array([0.       , 1.       , 1.5849625])"
            ]
          },
          "metadata": {},
          "execution_count": 108
        }
      ],
      "source": [
        "np.log2(v)"
      ]
    },
    {
      "cell_type": "code",
      "execution_count": 109,
      "metadata": {
        "colab": {
          "base_uri": "https://localhost:8080/"
        },
        "id": "c2Eb4Mo-_K2h",
        "outputId": "525ea528-ec03-461c-be10-025077bcc623"
      },
      "outputs": [
        {
          "output_type": "execute_result",
          "data": {
            "text/plain": [
              "array([0.        , 0.30103   , 0.47712125])"
            ]
          },
          "metadata": {},
          "execution_count": 109
        }
      ],
      "source": [
        "np.log10(v)"
      ]
    },
    {
      "cell_type": "code",
      "execution_count": null,
      "metadata": {
        "id": "Hjtoaiq3_K2i"
      },
      "outputs": [],
      "source": [
        "?np"
      ]
    },
    {
      "cell_type": "markdown",
      "metadata": {
        "id": "6Ah7X-vu_K2j"
      },
      "source": [
        "# İstatistiksel Hesaplamalar"
      ]
    },
    {
      "cell_type": "code",
      "execution_count": 110,
      "metadata": {
        "colab": {
          "base_uri": "https://localhost:8080/"
        },
        "id": "xFxLc1yy_K2k",
        "outputId": "1a2ae42c-a3d1-4660-d96b-7e331508827c"
      },
      "outputs": [
        {
          "output_type": "execute_result",
          "data": {
            "text/plain": [
              "array([1, 2, 3])"
            ]
          },
          "metadata": {},
          "execution_count": 110
        }
      ],
      "source": [
        "v"
      ]
    },
    {
      "cell_type": "code",
      "execution_count": 111,
      "metadata": {
        "colab": {
          "base_uri": "https://localhost:8080/"
        },
        "id": "vQjjstlA_K2l",
        "outputId": "bd6a7b57-3773-4bfb-f02e-dc997553d7f3"
      },
      "outputs": [
        {
          "output_type": "execute_result",
          "data": {
            "text/plain": [
              "2.0"
            ]
          },
          "metadata": {},
          "execution_count": 111
        }
      ],
      "source": [
        "np.mean(v)"
      ]
    },
    {
      "cell_type": "code",
      "execution_count": 112,
      "metadata": {
        "colab": {
          "base_uri": "https://localhost:8080/"
        },
        "id": "oFxda7G3_K2m",
        "outputId": "4a85b322-9da6-44d5-dadc-fb7610ef8838"
      },
      "outputs": [
        {
          "output_type": "execute_result",
          "data": {
            "text/plain": [
              "6"
            ]
          },
          "metadata": {},
          "execution_count": 112
        }
      ],
      "source": [
        "v.sum()"
      ]
    },
    {
      "cell_type": "code",
      "execution_count": 113,
      "metadata": {
        "colab": {
          "base_uri": "https://localhost:8080/"
        },
        "id": "RPRzylsJ_K2n",
        "outputId": "200e84e0-7e59-4d5d-d445-11ff3a1d18b7"
      },
      "outputs": [
        {
          "output_type": "execute_result",
          "data": {
            "text/plain": [
              "1"
            ]
          },
          "metadata": {},
          "execution_count": 113
        }
      ],
      "source": [
        "v.min()"
      ]
    },
    {
      "cell_type": "markdown",
      "metadata": {
        "id": "SDaLnwzV_K2n"
      },
      "source": [
        "* np.mean(arr,axis=0) | Returns mean along specific axis\n",
        "\n",
        "* arr.sum() | Returns sum of arr\n",
        "\n",
        "* arr.min() | Returns minimum value of arr\n",
        "\n",
        "* arr.max(axis=0) | Returns maximum value of specific axis\n",
        "\n",
        "* np.var(arr) | Returns the variance of array\n",
        "\n",
        "* np.std(arr,axis=1) | Returns the standard deviation of specific axis\n",
        "\n",
        "* arr.corrcoef() | Returns correlation coefficient of array"
      ]
    },
    {
      "cell_type": "markdown",
      "metadata": {
        "id": "OMUzt1QY_K2o"
      },
      "source": [
        "# NumPy ile İki Bilinmeyenli Denklem Çözümü"
      ]
    },
    {
      "cell_type": "code",
      "execution_count": 114,
      "metadata": {
        "id": "ktpJPiRI_K2o"
      },
      "outputs": [],
      "source": [
        "import numpy as np"
      ]
    },
    {
      "cell_type": "markdown",
      "metadata": {
        "id": "HlAxKxrG_K2p"
      },
      "source": [
        "**5 * x0 + x1 = 12  \n",
        "x0 + 3 * x1 = 10**"
      ]
    },
    {
      "cell_type": "code",
      "execution_count": 115,
      "metadata": {
        "id": "XZ7a6kEM_K2p"
      },
      "outputs": [],
      "source": [
        "a = np.array([[5,1], [1,3]])\n",
        "b = np.array([12,10])"
      ]
    },
    {
      "cell_type": "code",
      "execution_count": 116,
      "metadata": {
        "colab": {
          "base_uri": "https://localhost:8080/"
        },
        "id": "UVCGf6SF_K2p",
        "outputId": "2c1a4a31-700d-4924-a15e-55d56eba5e71"
      },
      "outputs": [
        {
          "output_type": "execute_result",
          "data": {
            "text/plain": [
              "array([[5, 1],\n",
              "       [1, 3]])"
            ]
          },
          "metadata": {},
          "execution_count": 116
        }
      ],
      "source": [
        "a"
      ]
    },
    {
      "cell_type": "code",
      "execution_count": 117,
      "metadata": {
        "colab": {
          "base_uri": "https://localhost:8080/"
        },
        "id": "Cuyv_LGQ_K2q",
        "outputId": "2c8f9f41-dd1c-4b09-ebb9-da8675bcd43c"
      },
      "outputs": [
        {
          "output_type": "execute_result",
          "data": {
            "text/plain": [
              "array([12, 10])"
            ]
          },
          "metadata": {},
          "execution_count": 117
        }
      ],
      "source": [
        "b"
      ]
    },
    {
      "cell_type": "code",
      "execution_count": 118,
      "metadata": {
        "colab": {
          "base_uri": "https://localhost:8080/"
        },
        "id": "YXQ4IpuB_K2q",
        "outputId": "e0427c8a-5554-4cff-8eae-ae18a1f23ecb"
      },
      "outputs": [
        {
          "output_type": "execute_result",
          "data": {
            "text/plain": [
              "array([1.85714286, 2.71428571])"
            ]
          },
          "metadata": {},
          "execution_count": 118
        }
      ],
      "source": [
        "x = np.linalg.solve(a, b)\n",
        "x"
      ]
    },
    {
      "cell_type": "code",
      "execution_count": null,
      "metadata": {
        "id": "ga0TEHqb_K2r"
      },
      "outputs": [],
      "source": [
        ""
      ]
    }
  ],
  "metadata": {
    "kernelspec": {
      "display_name": "Python 3 (ipykernel)",
      "language": "python",
      "name": "python3"
    },
    "language_info": {
      "codemirror_mode": {
        "name": "ipython",
        "version": 3
      },
      "file_extension": ".py",
      "mimetype": "text/x-python",
      "name": "python",
      "nbconvert_exporter": "python",
      "pygments_lexer": "ipython3",
      "version": "3.8.12"
    },
    "colab": {
      "name": "06_Self_Study_NumPy_Exercise_Student.ipynb",
      "provenance": [],
      "include_colab_link": true
    }
  },
  "nbformat": 4,
  "nbformat_minor": 0
}